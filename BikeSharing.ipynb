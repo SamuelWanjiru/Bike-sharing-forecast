{
  "nbformat": 4,
  "nbformat_minor": 0,
  "metadata": {
    "colab": {
      "provenance": [],
      "authorship_tag": "ABX9TyOuWRn6+R0vfFbUh/01ZJrQ",
      "include_colab_link": true
    },
    "kernelspec": {
      "name": "python3",
      "display_name": "Python 3"
    },
    "language_info": {
      "name": "python"
    }
  },
  "cells": [
    {
      "cell_type": "markdown",
      "metadata": {
        "id": "view-in-github",
        "colab_type": "text"
      },
      "source": [
        "<a href=\"https://colab.research.google.com/github/SamuelWanjiru/Bike-sharing-forecast/blob/main/BikeSharing.ipynb\" target=\"_parent\"><img src=\"https://colab.research.google.com/assets/colab-badge.svg\" alt=\"Open In Colab\"/></a>"
      ]
    },
    {
      "cell_type": "markdown",
      "source": [
        "#  **Bike Sharing Washington DC 🚲** \n",
        "---\n",
        "## **Context**\n",
        "Climate change is forcing cities to re-imaging their transportation infrastructure. Shared mobility concepts, such as car sharing, bike sharing or scooter sharing become more and more popular.\n",
        "And if they are implemented well, they can actually contribute to mitigating climate change. Bike sharing in particular is interesting because no electricity of gasoline is necessary (unless e-bikes are used) for this mode of transportation. However, there are inherent problems to this type of shared mobility:\n",
        "*   varying demand at bike sharing stations needs to be balanced to avoid oversupply or shortages\n",
        "*   Heavily used bikes break down more often\n",
        "\n",
        "Forecasting the future demand can help address those issues. Moreover, demand forecasts can help operators decide whether to expand the business, determine adequate prices and generate additional income through advertisements at particularly busy stations.\n",
        "But that's not all. Another challenge is redistributing bikes between stations and determining the optimal routes. And determining the location of new stations is also an area of interest for operators.\n",
        "\n",
        "## **Content**\n",
        "This dataset can be used to forecast demand to avoid oversupply and shortages. It spans from January 1, 2011, until December 31, 2018. Determining new station locations, analyzing movement patterns or planning routes will only be possible with additional data."
      ],
      "metadata": {
        "id": "AeKNx9d8RMBU"
      }
    },
    {
      "cell_type": "markdown",
      "source": [
        "## **Connecting/mounting the google drive**"
      ],
      "metadata": {
        "id": "kX4bevJCTrHA"
      }
    },
    {
      "cell_type": "code",
      "source": [
        "from google.colab import drive \n",
        "drive.mount('/content/gdrive')"
      ],
      "metadata": {
        "colab": {
          "base_uri": "https://localhost:8080/"
        },
        "id": "Lo-JgHVKTde_",
        "outputId": "edf50143-dba2-4812-aa33-a3eac1a25cf4"
      },
      "execution_count": null,
      "outputs": [
        {
          "output_type": "stream",
          "name": "stdout",
          "text": [
            "Mounted at /content/gdrive\n"
          ]
        }
      ]
    },
    {
      "cell_type": "markdown",
      "source": [
        "## **Importing the relevant data analysis libraries**"
      ],
      "metadata": {
        "id": "-VCf3rxMT3pT"
      }
    },
    {
      "cell_type": "code",
      "source": [
        "import pandas as pd\n",
        "import numpy as np \n",
        "import matplotlib.pyplot as plt\n",
        "import seaborn as sb\n",
        "import math\n",
        "from scipy.stats import kruskal, pearsonr, randint, uniform, chi2_contingency, boxcox\n",
        "from statsmodels.tsa.stattools import grangercausalitytests, adfuller, kpss, acf, pacf\n",
        "from datetime import datetime"
      ],
      "metadata": {
        "id": "p42ovMkyUA1w"
      },
      "execution_count": null,
      "outputs": []
    },
    {
      "cell_type": "markdown",
      "source": [
        "## Loading the dataset from google drive and converting the date column to a datetime variable."
      ],
      "metadata": {
        "id": "z5s0-xa-VAnW"
      }
    },
    {
      "cell_type": "code",
      "source": [
        "bike_data=pd.read_csv(r'/content/gdrive/My Drive/KAGGLE PROJECTS/Bike Sharing Washington DC/bike_sharing_dataset.csv')"
      ],
      "metadata": {
        "id": "lmz2NK6VVIWU"
      },
      "execution_count": null,
      "outputs": []
    },
    {
      "cell_type": "markdown",
      "source": [
        "## **Understanding the data**"
      ],
      "metadata": {
        "id": "yb43OIltV161"
      }
    },
    {
      "cell_type": "code",
      "source": [
        "# Displaying the 1st 5 rows of the bike dataset\n",
        "bike_data.head()"
      ],
      "metadata": {
        "colab": {
          "base_uri": "https://localhost:8080/",
          "height": 473
        },
        "id": "wF6HyE7OV50H",
        "outputId": "b0a28b5f-f174-49bc-e1a2-51c4455b13b0"
      },
      "execution_count": null,
      "outputs": [
        {
          "output_type": "execute_result",
          "data": {
            "text/plain": [
              "         date  temp_avg  temp_min   temp_max  temp_observ    precip   wind  \\\n",
              "0  2011-01-01       NaN -1.566667  11.973333     2.772727  0.069333  2.575   \n",
              "1  2011-01-02       NaN  0.880000  13.806667     7.327273  1.037349  3.925   \n",
              "2  2011-01-03       NaN -3.442857   7.464286    -3.060000  1.878824  3.625   \n",
              "3  2011-01-04       NaN -5.957143   4.642857    -3.100000  0.000000  1.800   \n",
              "4  2011-01-05       NaN -4.293333   6.113333    -1.772727  0.000000  2.950   \n",
              "\n",
              "   wt_fog  wt_heavy_fog  wt_thunder  ...  wt_freeze_rain  wt_snow  \\\n",
              "0     1.0           NaN         NaN  ...             NaN      NaN   \n",
              "1     1.0           1.0         NaN  ...             NaN      NaN   \n",
              "2     NaN           NaN         NaN  ...             NaN      NaN   \n",
              "3     NaN           NaN         NaN  ...             NaN      NaN   \n",
              "4     NaN           NaN         NaN  ...             NaN      NaN   \n",
              "\n",
              "   wt_ground_fog  wt_ice_fog  wt_freeze_drizzle  wt_unknown  casual  \\\n",
              "0            NaN         NaN                NaN         NaN   330.0   \n",
              "1            NaN         NaN                NaN         NaN   130.0   \n",
              "2            NaN         NaN                NaN         NaN   120.0   \n",
              "3            NaN         NaN                NaN         NaN   107.0   \n",
              "4            NaN         NaN                NaN         NaN    82.0   \n",
              "\n",
              "   registered  total_cust  holiday  \n",
              "0       629.0       959.0      NaN  \n",
              "1       651.0       781.0      NaN  \n",
              "2      1181.0      1301.0      NaN  \n",
              "3      1429.0      1536.0      NaN  \n",
              "4      1489.0      1571.0      NaN  \n",
              "\n",
              "[5 rows x 29 columns]"
            ],
            "text/html": [
              "\n",
              "  <div id=\"df-8a5ad8f9-1847-45a1-80a8-6773d575e532\">\n",
              "    <div class=\"colab-df-container\">\n",
              "      <div>\n",
              "<style scoped>\n",
              "    .dataframe tbody tr th:only-of-type {\n",
              "        vertical-align: middle;\n",
              "    }\n",
              "\n",
              "    .dataframe tbody tr th {\n",
              "        vertical-align: top;\n",
              "    }\n",
              "\n",
              "    .dataframe thead th {\n",
              "        text-align: right;\n",
              "    }\n",
              "</style>\n",
              "<table border=\"1\" class=\"dataframe\">\n",
              "  <thead>\n",
              "    <tr style=\"text-align: right;\">\n",
              "      <th></th>\n",
              "      <th>date</th>\n",
              "      <th>temp_avg</th>\n",
              "      <th>temp_min</th>\n",
              "      <th>temp_max</th>\n",
              "      <th>temp_observ</th>\n",
              "      <th>precip</th>\n",
              "      <th>wind</th>\n",
              "      <th>wt_fog</th>\n",
              "      <th>wt_heavy_fog</th>\n",
              "      <th>wt_thunder</th>\n",
              "      <th>...</th>\n",
              "      <th>wt_freeze_rain</th>\n",
              "      <th>wt_snow</th>\n",
              "      <th>wt_ground_fog</th>\n",
              "      <th>wt_ice_fog</th>\n",
              "      <th>wt_freeze_drizzle</th>\n",
              "      <th>wt_unknown</th>\n",
              "      <th>casual</th>\n",
              "      <th>registered</th>\n",
              "      <th>total_cust</th>\n",
              "      <th>holiday</th>\n",
              "    </tr>\n",
              "  </thead>\n",
              "  <tbody>\n",
              "    <tr>\n",
              "      <th>0</th>\n",
              "      <td>2011-01-01</td>\n",
              "      <td>NaN</td>\n",
              "      <td>-1.566667</td>\n",
              "      <td>11.973333</td>\n",
              "      <td>2.772727</td>\n",
              "      <td>0.069333</td>\n",
              "      <td>2.575</td>\n",
              "      <td>1.0</td>\n",
              "      <td>NaN</td>\n",
              "      <td>NaN</td>\n",
              "      <td>...</td>\n",
              "      <td>NaN</td>\n",
              "      <td>NaN</td>\n",
              "      <td>NaN</td>\n",
              "      <td>NaN</td>\n",
              "      <td>NaN</td>\n",
              "      <td>NaN</td>\n",
              "      <td>330.0</td>\n",
              "      <td>629.0</td>\n",
              "      <td>959.0</td>\n",
              "      <td>NaN</td>\n",
              "    </tr>\n",
              "    <tr>\n",
              "      <th>1</th>\n",
              "      <td>2011-01-02</td>\n",
              "      <td>NaN</td>\n",
              "      <td>0.880000</td>\n",
              "      <td>13.806667</td>\n",
              "      <td>7.327273</td>\n",
              "      <td>1.037349</td>\n",
              "      <td>3.925</td>\n",
              "      <td>1.0</td>\n",
              "      <td>1.0</td>\n",
              "      <td>NaN</td>\n",
              "      <td>...</td>\n",
              "      <td>NaN</td>\n",
              "      <td>NaN</td>\n",
              "      <td>NaN</td>\n",
              "      <td>NaN</td>\n",
              "      <td>NaN</td>\n",
              "      <td>NaN</td>\n",
              "      <td>130.0</td>\n",
              "      <td>651.0</td>\n",
              "      <td>781.0</td>\n",
              "      <td>NaN</td>\n",
              "    </tr>\n",
              "    <tr>\n",
              "      <th>2</th>\n",
              "      <td>2011-01-03</td>\n",
              "      <td>NaN</td>\n",
              "      <td>-3.442857</td>\n",
              "      <td>7.464286</td>\n",
              "      <td>-3.060000</td>\n",
              "      <td>1.878824</td>\n",
              "      <td>3.625</td>\n",
              "      <td>NaN</td>\n",
              "      <td>NaN</td>\n",
              "      <td>NaN</td>\n",
              "      <td>...</td>\n",
              "      <td>NaN</td>\n",
              "      <td>NaN</td>\n",
              "      <td>NaN</td>\n",
              "      <td>NaN</td>\n",
              "      <td>NaN</td>\n",
              "      <td>NaN</td>\n",
              "      <td>120.0</td>\n",
              "      <td>1181.0</td>\n",
              "      <td>1301.0</td>\n",
              "      <td>NaN</td>\n",
              "    </tr>\n",
              "    <tr>\n",
              "      <th>3</th>\n",
              "      <td>2011-01-04</td>\n",
              "      <td>NaN</td>\n",
              "      <td>-5.957143</td>\n",
              "      <td>4.642857</td>\n",
              "      <td>-3.100000</td>\n",
              "      <td>0.000000</td>\n",
              "      <td>1.800</td>\n",
              "      <td>NaN</td>\n",
              "      <td>NaN</td>\n",
              "      <td>NaN</td>\n",
              "      <td>...</td>\n",
              "      <td>NaN</td>\n",
              "      <td>NaN</td>\n",
              "      <td>NaN</td>\n",
              "      <td>NaN</td>\n",
              "      <td>NaN</td>\n",
              "      <td>NaN</td>\n",
              "      <td>107.0</td>\n",
              "      <td>1429.0</td>\n",
              "      <td>1536.0</td>\n",
              "      <td>NaN</td>\n",
              "    </tr>\n",
              "    <tr>\n",
              "      <th>4</th>\n",
              "      <td>2011-01-05</td>\n",
              "      <td>NaN</td>\n",
              "      <td>-4.293333</td>\n",
              "      <td>6.113333</td>\n",
              "      <td>-1.772727</td>\n",
              "      <td>0.000000</td>\n",
              "      <td>2.950</td>\n",
              "      <td>NaN</td>\n",
              "      <td>NaN</td>\n",
              "      <td>NaN</td>\n",
              "      <td>...</td>\n",
              "      <td>NaN</td>\n",
              "      <td>NaN</td>\n",
              "      <td>NaN</td>\n",
              "      <td>NaN</td>\n",
              "      <td>NaN</td>\n",
              "      <td>NaN</td>\n",
              "      <td>82.0</td>\n",
              "      <td>1489.0</td>\n",
              "      <td>1571.0</td>\n",
              "      <td>NaN</td>\n",
              "    </tr>\n",
              "  </tbody>\n",
              "</table>\n",
              "<p>5 rows × 29 columns</p>\n",
              "</div>\n",
              "      <button class=\"colab-df-convert\" onclick=\"convertToInteractive('df-8a5ad8f9-1847-45a1-80a8-6773d575e532')\"\n",
              "              title=\"Convert this dataframe to an interactive table.\"\n",
              "              style=\"display:none;\">\n",
              "        \n",
              "  <svg xmlns=\"http://www.w3.org/2000/svg\" height=\"24px\"viewBox=\"0 0 24 24\"\n",
              "       width=\"24px\">\n",
              "    <path d=\"M0 0h24v24H0V0z\" fill=\"none\"/>\n",
              "    <path d=\"M18.56 5.44l.94 2.06.94-2.06 2.06-.94-2.06-.94-.94-2.06-.94 2.06-2.06.94zm-11 1L8.5 8.5l.94-2.06 2.06-.94-2.06-.94L8.5 2.5l-.94 2.06-2.06.94zm10 10l.94 2.06.94-2.06 2.06-.94-2.06-.94-.94-2.06-.94 2.06-2.06.94z\"/><path d=\"M17.41 7.96l-1.37-1.37c-.4-.4-.92-.59-1.43-.59-.52 0-1.04.2-1.43.59L10.3 9.45l-7.72 7.72c-.78.78-.78 2.05 0 2.83L4 21.41c.39.39.9.59 1.41.59.51 0 1.02-.2 1.41-.59l7.78-7.78 2.81-2.81c.8-.78.8-2.07 0-2.86zM5.41 20L4 18.59l7.72-7.72 1.47 1.35L5.41 20z\"/>\n",
              "  </svg>\n",
              "      </button>\n",
              "      \n",
              "  <style>\n",
              "    .colab-df-container {\n",
              "      display:flex;\n",
              "      flex-wrap:wrap;\n",
              "      gap: 12px;\n",
              "    }\n",
              "\n",
              "    .colab-df-convert {\n",
              "      background-color: #E8F0FE;\n",
              "      border: none;\n",
              "      border-radius: 50%;\n",
              "      cursor: pointer;\n",
              "      display: none;\n",
              "      fill: #1967D2;\n",
              "      height: 32px;\n",
              "      padding: 0 0 0 0;\n",
              "      width: 32px;\n",
              "    }\n",
              "\n",
              "    .colab-df-convert:hover {\n",
              "      background-color: #E2EBFA;\n",
              "      box-shadow: 0px 1px 2px rgba(60, 64, 67, 0.3), 0px 1px 3px 1px rgba(60, 64, 67, 0.15);\n",
              "      fill: #174EA6;\n",
              "    }\n",
              "\n",
              "    [theme=dark] .colab-df-convert {\n",
              "      background-color: #3B4455;\n",
              "      fill: #D2E3FC;\n",
              "    }\n",
              "\n",
              "    [theme=dark] .colab-df-convert:hover {\n",
              "      background-color: #434B5C;\n",
              "      box-shadow: 0px 1px 3px 1px rgba(0, 0, 0, 0.15);\n",
              "      filter: drop-shadow(0px 1px 2px rgba(0, 0, 0, 0.3));\n",
              "      fill: #FFFFFF;\n",
              "    }\n",
              "  </style>\n",
              "\n",
              "      <script>\n",
              "        const buttonEl =\n",
              "          document.querySelector('#df-8a5ad8f9-1847-45a1-80a8-6773d575e532 button.colab-df-convert');\n",
              "        buttonEl.style.display =\n",
              "          google.colab.kernel.accessAllowed ? 'block' : 'none';\n",
              "\n",
              "        async function convertToInteractive(key) {\n",
              "          const element = document.querySelector('#df-8a5ad8f9-1847-45a1-80a8-6773d575e532');\n",
              "          const dataTable =\n",
              "            await google.colab.kernel.invokeFunction('convertToInteractive',\n",
              "                                                     [key], {});\n",
              "          if (!dataTable) return;\n",
              "\n",
              "          const docLinkHtml = 'Like what you see? Visit the ' +\n",
              "            '<a target=\"_blank\" href=https://colab.research.google.com/notebooks/data_table.ipynb>data table notebook</a>'\n",
              "            + ' to learn more about interactive tables.';\n",
              "          element.innerHTML = '';\n",
              "          dataTable['output_type'] = 'display_data';\n",
              "          await google.colab.output.renderOutput(dataTable, element);\n",
              "          const docLink = document.createElement('div');\n",
              "          docLink.innerHTML = docLinkHtml;\n",
              "          element.appendChild(docLink);\n",
              "        }\n",
              "      </script>\n",
              "    </div>\n",
              "  </div>\n",
              "  "
            ]
          },
          "metadata": {},
          "execution_count": 19
        }
      ]
    },
    {
      "cell_type": "code",
      "source": [
        "# Descriptive statistics\n",
        "bike_data.describe()"
      ],
      "metadata": {
        "colab": {
          "base_uri": "https://localhost:8080/",
          "height": 393
        },
        "id": "pL6u8xC-atBK",
        "outputId": "5dd6aeea-0972-4b1b-9fc3-b3ceafdc4ecf"
      },
      "execution_count": null,
      "outputs": [
        {
          "output_type": "execute_result",
          "data": {
            "text/plain": [
              "          temp_avg     temp_min     temp_max  temp_observ       precip  \\\n",
              "count  2101.000000  2922.000000  2922.000000  2922.000000  2922.000000   \n",
              "mean     14.419007     8.506468    19.015689    11.069243     3.435734   \n",
              "std       9.556401     9.473941     9.835524     9.481232     8.183658   \n",
              "min     -12.100000   -16.993750    -7.980000   -15.658333     0.000000   \n",
              "25%       6.566667     0.516538    11.081562     3.013068     0.005510   \n",
              "50%      15.433333     8.504911    19.992857    11.619091     0.271504   \n",
              "75%      23.066667    17.338393    27.874583    19.767083     2.885381   \n",
              "max      31.733333    26.206250    37.850000    28.666667   118.789796   \n",
              "\n",
              "              wind  wt_fog  wt_heavy_fog  wt_thunder  wt_sleet  ...  \\\n",
              "count  2922.000000  1503.0         208.0       694.0     129.0  ...   \n",
              "mean      3.162898     1.0           1.0         1.0       1.0  ...   \n",
              "std       1.379582     0.0           0.0         0.0       0.0  ...   \n",
              "min       0.375000     1.0           1.0         1.0       1.0  ...   \n",
              "25%       2.200000     1.0           1.0         1.0       1.0  ...   \n",
              "50%       2.900000     1.0           1.0         1.0       1.0  ...   \n",
              "75%       3.875000     1.0           1.0         1.0       1.0  ...   \n",
              "max      12.750000     1.0           1.0         1.0       1.0  ...   \n",
              "\n",
              "       wt_freeze_rain  wt_snow  wt_ground_fog  wt_ice_fog  wt_freeze_drizzle  \\\n",
              "count             5.0     84.0           36.0        10.0                4.0   \n",
              "mean              1.0      1.0            1.0         1.0                1.0   \n",
              "std               0.0      0.0            0.0         0.0                0.0   \n",
              "min               1.0      1.0            1.0         1.0                1.0   \n",
              "25%               1.0      1.0            1.0         1.0                1.0   \n",
              "50%               1.0      1.0            1.0         1.0                1.0   \n",
              "75%               1.0      1.0            1.0         1.0                1.0   \n",
              "max               1.0      1.0            1.0         1.0                1.0   \n",
              "\n",
              "       wt_unknown        casual    registered    total_cust  holiday  \n",
              "count         1.0   2918.000000   2918.000000   2918.000000     89.0  \n",
              "mean          1.0   1679.776217   6046.297121   7726.073338      1.0  \n",
              "std           NaN   1560.762932   2756.888032   3745.220092      0.0  \n",
              "min           1.0      2.000000     19.000000     21.000000      1.0  \n",
              "25%           1.0    512.250000   3839.250000   4628.500000      1.0  \n",
              "50%           1.0   1220.500000   5964.000000   7442.500000      1.0  \n",
              "75%           1.0   2357.250000   8187.500000  10849.500000      1.0  \n",
              "max           1.0  10173.000000  15419.000000  19113.000000      1.0  \n",
              "\n",
              "[8 rows x 28 columns]"
            ],
            "text/html": [
              "\n",
              "  <div id=\"df-7e995d69-583c-4e43-bd8c-2d6a8d0a79e7\">\n",
              "    <div class=\"colab-df-container\">\n",
              "      <div>\n",
              "<style scoped>\n",
              "    .dataframe tbody tr th:only-of-type {\n",
              "        vertical-align: middle;\n",
              "    }\n",
              "\n",
              "    .dataframe tbody tr th {\n",
              "        vertical-align: top;\n",
              "    }\n",
              "\n",
              "    .dataframe thead th {\n",
              "        text-align: right;\n",
              "    }\n",
              "</style>\n",
              "<table border=\"1\" class=\"dataframe\">\n",
              "  <thead>\n",
              "    <tr style=\"text-align: right;\">\n",
              "      <th></th>\n",
              "      <th>temp_avg</th>\n",
              "      <th>temp_min</th>\n",
              "      <th>temp_max</th>\n",
              "      <th>temp_observ</th>\n",
              "      <th>precip</th>\n",
              "      <th>wind</th>\n",
              "      <th>wt_fog</th>\n",
              "      <th>wt_heavy_fog</th>\n",
              "      <th>wt_thunder</th>\n",
              "      <th>wt_sleet</th>\n",
              "      <th>...</th>\n",
              "      <th>wt_freeze_rain</th>\n",
              "      <th>wt_snow</th>\n",
              "      <th>wt_ground_fog</th>\n",
              "      <th>wt_ice_fog</th>\n",
              "      <th>wt_freeze_drizzle</th>\n",
              "      <th>wt_unknown</th>\n",
              "      <th>casual</th>\n",
              "      <th>registered</th>\n",
              "      <th>total_cust</th>\n",
              "      <th>holiday</th>\n",
              "    </tr>\n",
              "  </thead>\n",
              "  <tbody>\n",
              "    <tr>\n",
              "      <th>count</th>\n",
              "      <td>2101.000000</td>\n",
              "      <td>2922.000000</td>\n",
              "      <td>2922.000000</td>\n",
              "      <td>2922.000000</td>\n",
              "      <td>2922.000000</td>\n",
              "      <td>2922.000000</td>\n",
              "      <td>1503.0</td>\n",
              "      <td>208.0</td>\n",
              "      <td>694.0</td>\n",
              "      <td>129.0</td>\n",
              "      <td>...</td>\n",
              "      <td>5.0</td>\n",
              "      <td>84.0</td>\n",
              "      <td>36.0</td>\n",
              "      <td>10.0</td>\n",
              "      <td>4.0</td>\n",
              "      <td>1.0</td>\n",
              "      <td>2918.000000</td>\n",
              "      <td>2918.000000</td>\n",
              "      <td>2918.000000</td>\n",
              "      <td>89.0</td>\n",
              "    </tr>\n",
              "    <tr>\n",
              "      <th>mean</th>\n",
              "      <td>14.419007</td>\n",
              "      <td>8.506468</td>\n",
              "      <td>19.015689</td>\n",
              "      <td>11.069243</td>\n",
              "      <td>3.435734</td>\n",
              "      <td>3.162898</td>\n",
              "      <td>1.0</td>\n",
              "      <td>1.0</td>\n",
              "      <td>1.0</td>\n",
              "      <td>1.0</td>\n",
              "      <td>...</td>\n",
              "      <td>1.0</td>\n",
              "      <td>1.0</td>\n",
              "      <td>1.0</td>\n",
              "      <td>1.0</td>\n",
              "      <td>1.0</td>\n",
              "      <td>1.0</td>\n",
              "      <td>1679.776217</td>\n",
              "      <td>6046.297121</td>\n",
              "      <td>7726.073338</td>\n",
              "      <td>1.0</td>\n",
              "    </tr>\n",
              "    <tr>\n",
              "      <th>std</th>\n",
              "      <td>9.556401</td>\n",
              "      <td>9.473941</td>\n",
              "      <td>9.835524</td>\n",
              "      <td>9.481232</td>\n",
              "      <td>8.183658</td>\n",
              "      <td>1.379582</td>\n",
              "      <td>0.0</td>\n",
              "      <td>0.0</td>\n",
              "      <td>0.0</td>\n",
              "      <td>0.0</td>\n",
              "      <td>...</td>\n",
              "      <td>0.0</td>\n",
              "      <td>0.0</td>\n",
              "      <td>0.0</td>\n",
              "      <td>0.0</td>\n",
              "      <td>0.0</td>\n",
              "      <td>NaN</td>\n",
              "      <td>1560.762932</td>\n",
              "      <td>2756.888032</td>\n",
              "      <td>3745.220092</td>\n",
              "      <td>0.0</td>\n",
              "    </tr>\n",
              "    <tr>\n",
              "      <th>min</th>\n",
              "      <td>-12.100000</td>\n",
              "      <td>-16.993750</td>\n",
              "      <td>-7.980000</td>\n",
              "      <td>-15.658333</td>\n",
              "      <td>0.000000</td>\n",
              "      <td>0.375000</td>\n",
              "      <td>1.0</td>\n",
              "      <td>1.0</td>\n",
              "      <td>1.0</td>\n",
              "      <td>1.0</td>\n",
              "      <td>...</td>\n",
              "      <td>1.0</td>\n",
              "      <td>1.0</td>\n",
              "      <td>1.0</td>\n",
              "      <td>1.0</td>\n",
              "      <td>1.0</td>\n",
              "      <td>1.0</td>\n",
              "      <td>2.000000</td>\n",
              "      <td>19.000000</td>\n",
              "      <td>21.000000</td>\n",
              "      <td>1.0</td>\n",
              "    </tr>\n",
              "    <tr>\n",
              "      <th>25%</th>\n",
              "      <td>6.566667</td>\n",
              "      <td>0.516538</td>\n",
              "      <td>11.081562</td>\n",
              "      <td>3.013068</td>\n",
              "      <td>0.005510</td>\n",
              "      <td>2.200000</td>\n",
              "      <td>1.0</td>\n",
              "      <td>1.0</td>\n",
              "      <td>1.0</td>\n",
              "      <td>1.0</td>\n",
              "      <td>...</td>\n",
              "      <td>1.0</td>\n",
              "      <td>1.0</td>\n",
              "      <td>1.0</td>\n",
              "      <td>1.0</td>\n",
              "      <td>1.0</td>\n",
              "      <td>1.0</td>\n",
              "      <td>512.250000</td>\n",
              "      <td>3839.250000</td>\n",
              "      <td>4628.500000</td>\n",
              "      <td>1.0</td>\n",
              "    </tr>\n",
              "    <tr>\n",
              "      <th>50%</th>\n",
              "      <td>15.433333</td>\n",
              "      <td>8.504911</td>\n",
              "      <td>19.992857</td>\n",
              "      <td>11.619091</td>\n",
              "      <td>0.271504</td>\n",
              "      <td>2.900000</td>\n",
              "      <td>1.0</td>\n",
              "      <td>1.0</td>\n",
              "      <td>1.0</td>\n",
              "      <td>1.0</td>\n",
              "      <td>...</td>\n",
              "      <td>1.0</td>\n",
              "      <td>1.0</td>\n",
              "      <td>1.0</td>\n",
              "      <td>1.0</td>\n",
              "      <td>1.0</td>\n",
              "      <td>1.0</td>\n",
              "      <td>1220.500000</td>\n",
              "      <td>5964.000000</td>\n",
              "      <td>7442.500000</td>\n",
              "      <td>1.0</td>\n",
              "    </tr>\n",
              "    <tr>\n",
              "      <th>75%</th>\n",
              "      <td>23.066667</td>\n",
              "      <td>17.338393</td>\n",
              "      <td>27.874583</td>\n",
              "      <td>19.767083</td>\n",
              "      <td>2.885381</td>\n",
              "      <td>3.875000</td>\n",
              "      <td>1.0</td>\n",
              "      <td>1.0</td>\n",
              "      <td>1.0</td>\n",
              "      <td>1.0</td>\n",
              "      <td>...</td>\n",
              "      <td>1.0</td>\n",
              "      <td>1.0</td>\n",
              "      <td>1.0</td>\n",
              "      <td>1.0</td>\n",
              "      <td>1.0</td>\n",
              "      <td>1.0</td>\n",
              "      <td>2357.250000</td>\n",
              "      <td>8187.500000</td>\n",
              "      <td>10849.500000</td>\n",
              "      <td>1.0</td>\n",
              "    </tr>\n",
              "    <tr>\n",
              "      <th>max</th>\n",
              "      <td>31.733333</td>\n",
              "      <td>26.206250</td>\n",
              "      <td>37.850000</td>\n",
              "      <td>28.666667</td>\n",
              "      <td>118.789796</td>\n",
              "      <td>12.750000</td>\n",
              "      <td>1.0</td>\n",
              "      <td>1.0</td>\n",
              "      <td>1.0</td>\n",
              "      <td>1.0</td>\n",
              "      <td>...</td>\n",
              "      <td>1.0</td>\n",
              "      <td>1.0</td>\n",
              "      <td>1.0</td>\n",
              "      <td>1.0</td>\n",
              "      <td>1.0</td>\n",
              "      <td>1.0</td>\n",
              "      <td>10173.000000</td>\n",
              "      <td>15419.000000</td>\n",
              "      <td>19113.000000</td>\n",
              "      <td>1.0</td>\n",
              "    </tr>\n",
              "  </tbody>\n",
              "</table>\n",
              "<p>8 rows × 28 columns</p>\n",
              "</div>\n",
              "      <button class=\"colab-df-convert\" onclick=\"convertToInteractive('df-7e995d69-583c-4e43-bd8c-2d6a8d0a79e7')\"\n",
              "              title=\"Convert this dataframe to an interactive table.\"\n",
              "              style=\"display:none;\">\n",
              "        \n",
              "  <svg xmlns=\"http://www.w3.org/2000/svg\" height=\"24px\"viewBox=\"0 0 24 24\"\n",
              "       width=\"24px\">\n",
              "    <path d=\"M0 0h24v24H0V0z\" fill=\"none\"/>\n",
              "    <path d=\"M18.56 5.44l.94 2.06.94-2.06 2.06-.94-2.06-.94-.94-2.06-.94 2.06-2.06.94zm-11 1L8.5 8.5l.94-2.06 2.06-.94-2.06-.94L8.5 2.5l-.94 2.06-2.06.94zm10 10l.94 2.06.94-2.06 2.06-.94-2.06-.94-.94-2.06-.94 2.06-2.06.94z\"/><path d=\"M17.41 7.96l-1.37-1.37c-.4-.4-.92-.59-1.43-.59-.52 0-1.04.2-1.43.59L10.3 9.45l-7.72 7.72c-.78.78-.78 2.05 0 2.83L4 21.41c.39.39.9.59 1.41.59.51 0 1.02-.2 1.41-.59l7.78-7.78 2.81-2.81c.8-.78.8-2.07 0-2.86zM5.41 20L4 18.59l7.72-7.72 1.47 1.35L5.41 20z\"/>\n",
              "  </svg>\n",
              "      </button>\n",
              "      \n",
              "  <style>\n",
              "    .colab-df-container {\n",
              "      display:flex;\n",
              "      flex-wrap:wrap;\n",
              "      gap: 12px;\n",
              "    }\n",
              "\n",
              "    .colab-df-convert {\n",
              "      background-color: #E8F0FE;\n",
              "      border: none;\n",
              "      border-radius: 50%;\n",
              "      cursor: pointer;\n",
              "      display: none;\n",
              "      fill: #1967D2;\n",
              "      height: 32px;\n",
              "      padding: 0 0 0 0;\n",
              "      width: 32px;\n",
              "    }\n",
              "\n",
              "    .colab-df-convert:hover {\n",
              "      background-color: #E2EBFA;\n",
              "      box-shadow: 0px 1px 2px rgba(60, 64, 67, 0.3), 0px 1px 3px 1px rgba(60, 64, 67, 0.15);\n",
              "      fill: #174EA6;\n",
              "    }\n",
              "\n",
              "    [theme=dark] .colab-df-convert {\n",
              "      background-color: #3B4455;\n",
              "      fill: #D2E3FC;\n",
              "    }\n",
              "\n",
              "    [theme=dark] .colab-df-convert:hover {\n",
              "      background-color: #434B5C;\n",
              "      box-shadow: 0px 1px 3px 1px rgba(0, 0, 0, 0.15);\n",
              "      filter: drop-shadow(0px 1px 2px rgba(0, 0, 0, 0.3));\n",
              "      fill: #FFFFFF;\n",
              "    }\n",
              "  </style>\n",
              "\n",
              "      <script>\n",
              "        const buttonEl =\n",
              "          document.querySelector('#df-7e995d69-583c-4e43-bd8c-2d6a8d0a79e7 button.colab-df-convert');\n",
              "        buttonEl.style.display =\n",
              "          google.colab.kernel.accessAllowed ? 'block' : 'none';\n",
              "\n",
              "        async function convertToInteractive(key) {\n",
              "          const element = document.querySelector('#df-7e995d69-583c-4e43-bd8c-2d6a8d0a79e7');\n",
              "          const dataTable =\n",
              "            await google.colab.kernel.invokeFunction('convertToInteractive',\n",
              "                                                     [key], {});\n",
              "          if (!dataTable) return;\n",
              "\n",
              "          const docLinkHtml = 'Like what you see? Visit the ' +\n",
              "            '<a target=\"_blank\" href=https://colab.research.google.com/notebooks/data_table.ipynb>data table notebook</a>'\n",
              "            + ' to learn more about interactive tables.';\n",
              "          element.innerHTML = '';\n",
              "          dataTable['output_type'] = 'display_data';\n",
              "          await google.colab.output.renderOutput(dataTable, element);\n",
              "          const docLink = document.createElement('div');\n",
              "          docLink.innerHTML = docLinkHtml;\n",
              "          element.appendChild(docLink);\n",
              "        }\n",
              "      </script>\n",
              "    </div>\n",
              "  </div>\n",
              "  "
            ]
          },
          "metadata": {},
          "execution_count": 20
        }
      ]
    },
    {
      "cell_type": "code",
      "source": [
        "# Checking the data types of every varaible\n",
        "\n",
        "bike_data.dtypes"
      ],
      "metadata": {
        "colab": {
          "base_uri": "https://localhost:8080/"
        },
        "id": "ih0-Emr2a_5A",
        "outputId": "e684e190-aedf-455c-cce1-5a0bab98d8aa"
      },
      "execution_count": null,
      "outputs": [
        {
          "output_type": "execute_result",
          "data": {
            "text/plain": [
              "date                  object\n",
              "temp_avg             float64\n",
              "temp_min             float64\n",
              "temp_max             float64\n",
              "temp_observ          float64\n",
              "precip               float64\n",
              "wind                 float64\n",
              "wt_fog               float64\n",
              "wt_heavy_fog         float64\n",
              "wt_thunder           float64\n",
              "wt_sleet             float64\n",
              "wt_hail              float64\n",
              "wt_glaze             float64\n",
              "wt_haze              float64\n",
              "wt_drift_snow        float64\n",
              "wt_high_wind         float64\n",
              "wt_mist              float64\n",
              "wt_drizzle           float64\n",
              "wt_rain              float64\n",
              "wt_freeze_rain       float64\n",
              "wt_snow              float64\n",
              "wt_ground_fog        float64\n",
              "wt_ice_fog           float64\n",
              "wt_freeze_drizzle    float64\n",
              "wt_unknown           float64\n",
              "casual               float64\n",
              "registered           float64\n",
              "total_cust           float64\n",
              "holiday              float64\n",
              "dtype: object"
            ]
          },
          "metadata": {},
          "execution_count": 21
        }
      ]
    },
    {
      "cell_type": "markdown",
      "source": [
        "### All the variables apart from date are float variables. The date variable is converted to a datetime variable at the point of data loading.\n"
      ],
      "metadata": {
        "id": "4_lpUnDtbuv1"
      }
    },
    {
      "cell_type": "markdown",
      "source": [
        "### **Checking and dealing with missing values**"
      ],
      "metadata": {
        "id": "omtYfNn3cJbt"
      }
    },
    {
      "cell_type": "code",
      "source": [
        "bike_data.isnull().sum()"
      ],
      "metadata": {
        "colab": {
          "base_uri": "https://localhost:8080/"
        },
        "id": "BJBPK4s8eZsZ",
        "outputId": "37026810-c0bf-4094-9e90-85dcab70d427"
      },
      "execution_count": null,
      "outputs": [
        {
          "output_type": "execute_result",
          "data": {
            "text/plain": [
              "date                    0\n",
              "temp_avg              821\n",
              "temp_min                0\n",
              "temp_max                0\n",
              "temp_observ             0\n",
              "precip                  0\n",
              "wind                    0\n",
              "wt_fog               1419\n",
              "wt_heavy_fog         2714\n",
              "wt_thunder           2228\n",
              "wt_sleet             2793\n",
              "wt_hail              2872\n",
              "wt_glaze             2769\n",
              "wt_haze              2217\n",
              "wt_drift_snow        2915\n",
              "wt_high_wind         2664\n",
              "wt_mist              2551\n",
              "wt_drizzle           2794\n",
              "wt_rain              2516\n",
              "wt_freeze_rain       2917\n",
              "wt_snow              2838\n",
              "wt_ground_fog        2886\n",
              "wt_ice_fog           2912\n",
              "wt_freeze_drizzle    2918\n",
              "wt_unknown           2921\n",
              "casual                  4\n",
              "registered              4\n",
              "total_cust              4\n",
              "holiday              2833\n",
              "dtype: int64"
            ]
          },
          "metadata": {},
          "execution_count": 22
        }
      ]
    },
    {
      "cell_type": "code",
      "source": [
        "# fill missing values with 0 where applicable\n",
        "\n",
        "wt_features = [x for x in bike_data.columns if 'wt' in x]\n",
        "bike_data['holiday'] = bike_data['holiday'].fillna(0)\n",
        "bike_data[wt_features] = bike_data[wt_features].fillna(0)"
      ],
      "metadata": {
        "id": "mi2-FA3Qgc9s"
      },
      "execution_count": null,
      "outputs": []
    },
    {
      "cell_type": "code",
      "source": [
        "# check casual, registered and total_cust missing rows\n",
        "missing_target = bike_data[bike_data['total_cust'].isna()]\n",
        "missing_target"
      ],
      "metadata": {
        "colab": {
          "base_uri": "https://localhost:8080/",
          "height": 337
        },
        "id": "_1L1jLFLhIoD",
        "outputId": "3119193a-66e8-4f7e-a8af-58d5ebc3d018"
      },
      "execution_count": null,
      "outputs": [
        {
          "output_type": "execute_result",
          "data": {
            "text/plain": [
              "            date  temp_avg   temp_min  temp_max  temp_observ     precip  wind  \\\n",
              "1848  2016-01-23 -4.366667  -6.128571 -2.392857    -4.688889  42.045946  8.08   \n",
              "1849  2016-01-24 -2.666667  -7.985714 -1.028571    -6.366667  19.339130  3.75   \n",
              "1850  2016-01-25 -5.133333 -11.128571  2.028571    -9.877778   0.000000  1.15   \n",
              "1851  2016-01-26  2.333333  -7.871429  7.471429     3.588889   0.000000  2.85   \n",
              "\n",
              "      wt_fog  wt_heavy_fog  wt_thunder  ...  wt_freeze_rain  wt_snow  \\\n",
              "1848     1.0           1.0         1.0  ...             0.0      0.0   \n",
              "1849     1.0           0.0         0.0  ...             0.0      0.0   \n",
              "1850     1.0           0.0         0.0  ...             0.0      0.0   \n",
              "1851     1.0           0.0         0.0  ...             0.0      0.0   \n",
              "\n",
              "      wt_ground_fog  wt_ice_fog  wt_freeze_drizzle  wt_unknown  casual  \\\n",
              "1848            0.0         0.0                0.0         0.0     NaN   \n",
              "1849            0.0         0.0                0.0         0.0     NaN   \n",
              "1850            0.0         0.0                0.0         0.0     NaN   \n",
              "1851            0.0         0.0                0.0         0.0     NaN   \n",
              "\n",
              "      registered  total_cust  holiday  \n",
              "1848         NaN         NaN      0.0  \n",
              "1849         NaN         NaN      0.0  \n",
              "1850         NaN         NaN      0.0  \n",
              "1851         NaN         NaN      0.0  \n",
              "\n",
              "[4 rows x 29 columns]"
            ],
            "text/html": [
              "\n",
              "  <div id=\"df-4fc34419-0999-4fe9-b8ec-f24f52b578cb\">\n",
              "    <div class=\"colab-df-container\">\n",
              "      <div>\n",
              "<style scoped>\n",
              "    .dataframe tbody tr th:only-of-type {\n",
              "        vertical-align: middle;\n",
              "    }\n",
              "\n",
              "    .dataframe tbody tr th {\n",
              "        vertical-align: top;\n",
              "    }\n",
              "\n",
              "    .dataframe thead th {\n",
              "        text-align: right;\n",
              "    }\n",
              "</style>\n",
              "<table border=\"1\" class=\"dataframe\">\n",
              "  <thead>\n",
              "    <tr style=\"text-align: right;\">\n",
              "      <th></th>\n",
              "      <th>date</th>\n",
              "      <th>temp_avg</th>\n",
              "      <th>temp_min</th>\n",
              "      <th>temp_max</th>\n",
              "      <th>temp_observ</th>\n",
              "      <th>precip</th>\n",
              "      <th>wind</th>\n",
              "      <th>wt_fog</th>\n",
              "      <th>wt_heavy_fog</th>\n",
              "      <th>wt_thunder</th>\n",
              "      <th>...</th>\n",
              "      <th>wt_freeze_rain</th>\n",
              "      <th>wt_snow</th>\n",
              "      <th>wt_ground_fog</th>\n",
              "      <th>wt_ice_fog</th>\n",
              "      <th>wt_freeze_drizzle</th>\n",
              "      <th>wt_unknown</th>\n",
              "      <th>casual</th>\n",
              "      <th>registered</th>\n",
              "      <th>total_cust</th>\n",
              "      <th>holiday</th>\n",
              "    </tr>\n",
              "  </thead>\n",
              "  <tbody>\n",
              "    <tr>\n",
              "      <th>1848</th>\n",
              "      <td>2016-01-23</td>\n",
              "      <td>-4.366667</td>\n",
              "      <td>-6.128571</td>\n",
              "      <td>-2.392857</td>\n",
              "      <td>-4.688889</td>\n",
              "      <td>42.045946</td>\n",
              "      <td>8.08</td>\n",
              "      <td>1.0</td>\n",
              "      <td>1.0</td>\n",
              "      <td>1.0</td>\n",
              "      <td>...</td>\n",
              "      <td>0.0</td>\n",
              "      <td>0.0</td>\n",
              "      <td>0.0</td>\n",
              "      <td>0.0</td>\n",
              "      <td>0.0</td>\n",
              "      <td>0.0</td>\n",
              "      <td>NaN</td>\n",
              "      <td>NaN</td>\n",
              "      <td>NaN</td>\n",
              "      <td>0.0</td>\n",
              "    </tr>\n",
              "    <tr>\n",
              "      <th>1849</th>\n",
              "      <td>2016-01-24</td>\n",
              "      <td>-2.666667</td>\n",
              "      <td>-7.985714</td>\n",
              "      <td>-1.028571</td>\n",
              "      <td>-6.366667</td>\n",
              "      <td>19.339130</td>\n",
              "      <td>3.75</td>\n",
              "      <td>1.0</td>\n",
              "      <td>0.0</td>\n",
              "      <td>0.0</td>\n",
              "      <td>...</td>\n",
              "      <td>0.0</td>\n",
              "      <td>0.0</td>\n",
              "      <td>0.0</td>\n",
              "      <td>0.0</td>\n",
              "      <td>0.0</td>\n",
              "      <td>0.0</td>\n",
              "      <td>NaN</td>\n",
              "      <td>NaN</td>\n",
              "      <td>NaN</td>\n",
              "      <td>0.0</td>\n",
              "    </tr>\n",
              "    <tr>\n",
              "      <th>1850</th>\n",
              "      <td>2016-01-25</td>\n",
              "      <td>-5.133333</td>\n",
              "      <td>-11.128571</td>\n",
              "      <td>2.028571</td>\n",
              "      <td>-9.877778</td>\n",
              "      <td>0.000000</td>\n",
              "      <td>1.15</td>\n",
              "      <td>1.0</td>\n",
              "      <td>0.0</td>\n",
              "      <td>0.0</td>\n",
              "      <td>...</td>\n",
              "      <td>0.0</td>\n",
              "      <td>0.0</td>\n",
              "      <td>0.0</td>\n",
              "      <td>0.0</td>\n",
              "      <td>0.0</td>\n",
              "      <td>0.0</td>\n",
              "      <td>NaN</td>\n",
              "      <td>NaN</td>\n",
              "      <td>NaN</td>\n",
              "      <td>0.0</td>\n",
              "    </tr>\n",
              "    <tr>\n",
              "      <th>1851</th>\n",
              "      <td>2016-01-26</td>\n",
              "      <td>2.333333</td>\n",
              "      <td>-7.871429</td>\n",
              "      <td>7.471429</td>\n",
              "      <td>3.588889</td>\n",
              "      <td>0.000000</td>\n",
              "      <td>2.85</td>\n",
              "      <td>1.0</td>\n",
              "      <td>0.0</td>\n",
              "      <td>0.0</td>\n",
              "      <td>...</td>\n",
              "      <td>0.0</td>\n",
              "      <td>0.0</td>\n",
              "      <td>0.0</td>\n",
              "      <td>0.0</td>\n",
              "      <td>0.0</td>\n",
              "      <td>0.0</td>\n",
              "      <td>NaN</td>\n",
              "      <td>NaN</td>\n",
              "      <td>NaN</td>\n",
              "      <td>0.0</td>\n",
              "    </tr>\n",
              "  </tbody>\n",
              "</table>\n",
              "<p>4 rows × 29 columns</p>\n",
              "</div>\n",
              "      <button class=\"colab-df-convert\" onclick=\"convertToInteractive('df-4fc34419-0999-4fe9-b8ec-f24f52b578cb')\"\n",
              "              title=\"Convert this dataframe to an interactive table.\"\n",
              "              style=\"display:none;\">\n",
              "        \n",
              "  <svg xmlns=\"http://www.w3.org/2000/svg\" height=\"24px\"viewBox=\"0 0 24 24\"\n",
              "       width=\"24px\">\n",
              "    <path d=\"M0 0h24v24H0V0z\" fill=\"none\"/>\n",
              "    <path d=\"M18.56 5.44l.94 2.06.94-2.06 2.06-.94-2.06-.94-.94-2.06-.94 2.06-2.06.94zm-11 1L8.5 8.5l.94-2.06 2.06-.94-2.06-.94L8.5 2.5l-.94 2.06-2.06.94zm10 10l.94 2.06.94-2.06 2.06-.94-2.06-.94-.94-2.06-.94 2.06-2.06.94z\"/><path d=\"M17.41 7.96l-1.37-1.37c-.4-.4-.92-.59-1.43-.59-.52 0-1.04.2-1.43.59L10.3 9.45l-7.72 7.72c-.78.78-.78 2.05 0 2.83L4 21.41c.39.39.9.59 1.41.59.51 0 1.02-.2 1.41-.59l7.78-7.78 2.81-2.81c.8-.78.8-2.07 0-2.86zM5.41 20L4 18.59l7.72-7.72 1.47 1.35L5.41 20z\"/>\n",
              "  </svg>\n",
              "      </button>\n",
              "      \n",
              "  <style>\n",
              "    .colab-df-container {\n",
              "      display:flex;\n",
              "      flex-wrap:wrap;\n",
              "      gap: 12px;\n",
              "    }\n",
              "\n",
              "    .colab-df-convert {\n",
              "      background-color: #E8F0FE;\n",
              "      border: none;\n",
              "      border-radius: 50%;\n",
              "      cursor: pointer;\n",
              "      display: none;\n",
              "      fill: #1967D2;\n",
              "      height: 32px;\n",
              "      padding: 0 0 0 0;\n",
              "      width: 32px;\n",
              "    }\n",
              "\n",
              "    .colab-df-convert:hover {\n",
              "      background-color: #E2EBFA;\n",
              "      box-shadow: 0px 1px 2px rgba(60, 64, 67, 0.3), 0px 1px 3px 1px rgba(60, 64, 67, 0.15);\n",
              "      fill: #174EA6;\n",
              "    }\n",
              "\n",
              "    [theme=dark] .colab-df-convert {\n",
              "      background-color: #3B4455;\n",
              "      fill: #D2E3FC;\n",
              "    }\n",
              "\n",
              "    [theme=dark] .colab-df-convert:hover {\n",
              "      background-color: #434B5C;\n",
              "      box-shadow: 0px 1px 3px 1px rgba(0, 0, 0, 0.15);\n",
              "      filter: drop-shadow(0px 1px 2px rgba(0, 0, 0, 0.3));\n",
              "      fill: #FFFFFF;\n",
              "    }\n",
              "  </style>\n",
              "\n",
              "      <script>\n",
              "        const buttonEl =\n",
              "          document.querySelector('#df-4fc34419-0999-4fe9-b8ec-f24f52b578cb button.colab-df-convert');\n",
              "        buttonEl.style.display =\n",
              "          google.colab.kernel.accessAllowed ? 'block' : 'none';\n",
              "\n",
              "        async function convertToInteractive(key) {\n",
              "          const element = document.querySelector('#df-4fc34419-0999-4fe9-b8ec-f24f52b578cb');\n",
              "          const dataTable =\n",
              "            await google.colab.kernel.invokeFunction('convertToInteractive',\n",
              "                                                     [key], {});\n",
              "          if (!dataTable) return;\n",
              "\n",
              "          const docLinkHtml = 'Like what you see? Visit the ' +\n",
              "            '<a target=\"_blank\" href=https://colab.research.google.com/notebooks/data_table.ipynb>data table notebook</a>'\n",
              "            + ' to learn more about interactive tables.';\n",
              "          element.innerHTML = '';\n",
              "          dataTable['output_type'] = 'display_data';\n",
              "          await google.colab.output.renderOutput(dataTable, element);\n",
              "          const docLink = document.createElement('div');\n",
              "          docLink.innerHTML = docLinkHtml;\n",
              "          element.appendChild(docLink);\n",
              "        }\n",
              "      </script>\n",
              "    </div>\n",
              "  </div>\n",
              "  "
            ]
          },
          "metadata": {},
          "execution_count": 24
        }
      ]
    },
    {
      "cell_type": "markdown",
      "source": [
        "There seem to be four days where no data was captured for the rented bikes. \n",
        "Being a time series, i will interpolate these missing values using the forward fill method."
      ],
      "metadata": {
        "id": "dlAFbgczhlmr"
      }
    },
    {
      "cell_type": "code",
      "source": [
        "# filling the missing values in the customer variables with forward fill method\n",
        "bike_data[['total_cust', 'casual', 'registered']] = bike_data[['total_cust', 'casual', 'registered']].fillna( method='ffill')\n",
        "bike_data.isnull().sum()"
      ],
      "metadata": {
        "colab": {
          "base_uri": "https://localhost:8080/"
        },
        "id": "_mTcugsph5Vb",
        "outputId": "11243173-9604-41a6-8494-51ea31dabfe3"
      },
      "execution_count": null,
      "outputs": [
        {
          "output_type": "execute_result",
          "data": {
            "text/plain": [
              "date                   0\n",
              "temp_avg             821\n",
              "temp_min               0\n",
              "temp_max               0\n",
              "temp_observ            0\n",
              "precip                 0\n",
              "wind                   0\n",
              "wt_fog                 0\n",
              "wt_heavy_fog           0\n",
              "wt_thunder             0\n",
              "wt_sleet               0\n",
              "wt_hail                0\n",
              "wt_glaze               0\n",
              "wt_haze                0\n",
              "wt_drift_snow          0\n",
              "wt_high_wind           0\n",
              "wt_mist                0\n",
              "wt_drizzle             0\n",
              "wt_rain                0\n",
              "wt_freeze_rain         0\n",
              "wt_snow                0\n",
              "wt_ground_fog          0\n",
              "wt_ice_fog             0\n",
              "wt_freeze_drizzle      0\n",
              "wt_unknown             0\n",
              "casual                 0\n",
              "registered             0\n",
              "total_cust             0\n",
              "holiday                0\n",
              "dtype: int64"
            ]
          },
          "metadata": {},
          "execution_count": 25
        }
      ]
    },
    {
      "cell_type": "code",
      "source": [
        "# check what the correlation between the different temperature features and total_cust is\n",
        "# correlation between temp_avg and total_cust excluding the first 820 rows\n",
        "\n",
        "print('temp_avg:', pearsonr(bike_data['temp_avg'][821:], bike_data['total_cust'][821:]))\n",
        "\n",
        "# correlation between temp_min and total_cust\n",
        "print('temp_min:', pearsonr(bike_data['temp_min'], bike_data['total_cust']))\n",
        "print('temp_min, without first 820 rows:', pearsonr(bike_data['temp_min'][821:], bike_data['total_cust'][821:]))\n",
        "\n",
        "# correlation between temp_max and total_cust\n",
        "print('temp_max:', pearsonr(bike_data['temp_max'], bike_data['total_cust']))\n",
        "print('temp_max, without first 820 rows:', pearsonr(bike_data['temp_max'][821:], bike_data['total_cust'][821:]))\n",
        "\n",
        "# correlation between temp_observ and total_cust\n",
        "print('temp_observ:', pearsonr(bike_data['temp_observ'], bike_data['total_cust']))\n",
        "print('temp_observ, without first 820 rows:', pearsonr(bike_data['temp_observ'][821:], bike_data['total_cust'][821:]))"
      ],
      "metadata": {
        "colab": {
          "base_uri": "https://localhost:8080/"
        },
        "id": "qLR6H8ainPy5",
        "outputId": "429257c0-b293-4050-8f51-a803d03fdc6b"
      },
      "execution_count": null,
      "outputs": [
        {
          "output_type": "stream",
          "name": "stdout",
          "text": [
            "temp_avg: (0.7289653483071338, 0.0)\n",
            "temp_min: (0.5484063784007367, 3.92265728990609e-229)\n",
            "temp_min, without first 820 rows: (0.6720561174778342, 3.5204893405440216e-276)\n",
            "temp_max: (0.5962507437902363, 6.986689659232709e-281)\n",
            "temp_max, without first 820 rows: (0.7406902128448435, 0.0)\n",
            "temp_observ: (0.5500110613450737, 9.817169026462281e-231)\n",
            "temp_observ, without first 820 rows: (0.6804926361142358, 9.041087867799183e-286)\n"
          ]
        }
      ]
    },
    {
      "cell_type": "markdown",
      "source": [
        "The above shows that disregarding the first 820 rows leads to the highest correlation between temp_max and total_cust. Comparing temp_avg with the entire dataset and the respective correlations with total_cust, temp_avg has the highest correlation.\n",
        "\n",
        "The Granger causality is a more appropriate measure for timeseries data and determining whether one time series is useful in forecasting another. Thus, below I am using the Granger causality test to see how the temperature features cause total_cust."
      ],
      "metadata": {
        "id": "JlKp1hA9q8zj"
      }
    },
    {
      "cell_type": "code",
      "source": [
        "# calculating the Granger causality between the temperature feats and the target\n",
        "print('Average temperature and target:')\n",
        "grangercausalitytests(bike_data[['total_cust', 'temp_avg']][821:], maxlag=1);\n",
        "print('\\nMaximum temperature and target:')\n",
        "grangercausalitytests(bike_data[['total_cust', 'temp_max']], maxlag=1);\n",
        "print('\\nMinimum temperature and target:')\n",
        "grangercausalitytests(bike_data[['total_cust', 'temp_min']], maxlag=1);\n",
        "print('\\nObserved temperature and target:')\n",
        "grangercausalitytests(bike_data[['total_cust', 'temp_observ']], maxlag=1);"
      ],
      "metadata": {
        "colab": {
          "base_uri": "https://localhost:8080/"
        },
        "id": "pKokYFDDq-Al",
        "outputId": "427f34bb-f097-4240-ebaf-f81bba91505a"
      },
      "execution_count": null,
      "outputs": [
        {
          "output_type": "stream",
          "name": "stdout",
          "text": [
            "Average temperature and target:\n",
            "\n",
            "Granger Causality\n",
            "number of lags (no zero) 1\n",
            "ssr based F test:         F=176.4496, p=0.0000  , df_denom=2097, df_num=1\n",
            "ssr based chi2 test:   chi2=176.7020, p=0.0000  , df=1\n",
            "likelihood ratio test: chi2=169.6602, p=0.0000  , df=1\n",
            "parameter F test:         F=176.4496, p=0.0000  , df_denom=2097, df_num=1\n",
            "\n",
            "Maximum temperature and target:\n",
            "\n",
            "Granger Causality\n",
            "number of lags (no zero) 1\n",
            "ssr based F test:         F=40.0233 , p=0.0000  , df_denom=2918, df_num=1\n",
            "ssr based chi2 test:   chi2=40.0645 , p=0.0000  , df=1\n",
            "likelihood ratio test: chi2=39.7922 , p=0.0000  , df=1\n",
            "parameter F test:         F=40.0233 , p=0.0000  , df_denom=2918, df_num=1\n",
            "\n",
            "Minimum temperature and target:\n",
            "\n",
            "Granger Causality\n",
            "number of lags (no zero) 1\n",
            "ssr based F test:         F=88.8911 , p=0.0000  , df_denom=2918, df_num=1\n",
            "ssr based chi2 test:   chi2=88.9825 , p=0.0000  , df=1\n",
            "likelihood ratio test: chi2=87.6540 , p=0.0000  , df=1\n",
            "parameter F test:         F=88.8911 , p=0.0000  , df_denom=2918, df_num=1\n",
            "\n",
            "Observed temperature and target:\n",
            "\n",
            "Granger Causality\n",
            "number of lags (no zero) 1\n",
            "ssr based F test:         F=72.3035 , p=0.0000  , df_denom=2918, df_num=1\n",
            "ssr based chi2 test:   chi2=72.3779 , p=0.0000  , df=1\n",
            "likelihood ratio test: chi2=71.4957 , p=0.0000  , df=1\n",
            "parameter F test:         F=72.3035 , p=0.0000  , df_denom=2918, df_num=1\n"
          ]
        }
      ]
    },
    {
      "cell_type": "markdown",
      "source": [
        "**Data Preprocessing** : Below I will engineer some new features from the categorical and numeric features"
      ],
      "metadata": {
        "id": "BnJCqbwesTTM"
      }
    },
    {
      "cell_type": "code",
      "source": [
        "# function to create seasons for dataframe\n",
        "\n",
        "def seasons(df):\n",
        "    '''\n",
        "    Function to create new features for seasons based on months\n",
        "    Args: df = dataframe\n",
        "    Returns: df = dataframe\n",
        "    Seasons: Spring, Summer & Fall\n",
        "    '''\n",
        "    \n",
        "    # create a season features\n",
        "    df['spring'] = df['date'].apply(lambda x: 1 if '01' in x[5:7] else 1 if '02' in x[5:7] else 1 \n",
        "                                                     if '03' in x[5:7] else 0)\n",
        "    df['summer'] = df['date'].apply(lambda x: 1 if '04' in x[5:7] else 1 if '05' in x[5:7] else 1 \n",
        "                                                     if '06' in x[5:7] else 0)\n",
        "    df['fall'] = df['date'].apply(lambda x: 1 if '07' in x[5:7] else 1 if '08' in x[5:7] else 1 \n",
        "                                                     if '09' in x[5:7] else 0)\n",
        "    \n",
        "    return df"
      ],
      "metadata": {
        "id": "nDc6evtBsVwA"
      },
      "execution_count": null,
      "outputs": []
    },
    {
      "cell_type": "code",
      "source": [
        "# create new features for seasons\n",
        "\n",
        "bike_data = seasons(bike_data)"
      ],
      "metadata": {
        "id": "A57Dbdm4tRnj"
      },
      "execution_count": null,
      "outputs": []
    },
    {
      "cell_type": "code",
      "source": [
        "# create new feature weekday\n",
        "\n",
        "bike_data['date_datetime'] = bike_data['date'].apply(lambda x: datetime.strptime(x, \"%Y-%m-%d\"))\n",
        "\n",
        "bike_data['weekday'] = bike_data['date_datetime'].apply(lambda x: x.weekday())"
      ],
      "metadata": {
        "id": "pHdtDr0futKI"
      },
      "execution_count": null,
      "outputs": []
    },
    {
      "cell_type": "code",
      "source": [
        "# one hot encode the feature weekday: returns a new dataframe with a column for every \"level\" of rating that exists,\n",
        "# along with either a 1 or 0 specifying the presence of that rating for a given observation.\n",
        "\n",
        "weekday_dummies = pd.get_dummies(bike_data['weekday'], prefix='weekday', drop_first=True)\n",
        "bike_data = bike_data.join(weekday_dummies, how='left')\n",
        "bike_data.head()"
      ],
      "metadata": {
        "colab": {
          "base_uri": "https://localhost:8080/",
          "height": 473
        },
        "id": "mLBSEZrpy19y",
        "outputId": "b5615562-fc99-4de4-f110-492c71f8179d"
      },
      "execution_count": null,
      "outputs": [
        {
          "output_type": "execute_result",
          "data": {
            "text/plain": [
              "         date  temp_avg  temp_min   temp_max  temp_observ    precip   wind  \\\n",
              "0  2011-01-01       NaN -1.566667  11.973333     2.772727  0.069333  2.575   \n",
              "1  2011-01-02       NaN  0.880000  13.806667     7.327273  1.037349  3.925   \n",
              "2  2011-01-03       NaN -3.442857   7.464286    -3.060000  1.878824  3.625   \n",
              "3  2011-01-04       NaN -5.957143   4.642857    -3.100000  0.000000  1.800   \n",
              "4  2011-01-05       NaN -4.293333   6.113333    -1.772727  0.000000  2.950   \n",
              "\n",
              "   wt_fog  wt_heavy_fog  wt_thunder  ...  summer  fall  date_datetime  \\\n",
              "0     1.0           0.0         0.0  ...       0     0     2011-01-01   \n",
              "1     1.0           1.0         0.0  ...       0     0     2011-01-02   \n",
              "2     0.0           0.0         0.0  ...       0     0     2011-01-03   \n",
              "3     0.0           0.0         0.0  ...       0     0     2011-01-04   \n",
              "4     0.0           0.0         0.0  ...       0     0     2011-01-05   \n",
              "\n",
              "   weekday  weekday_1  weekday_2  weekday_3  weekday_4  weekday_5  weekday_6  \n",
              "0        5          0          0          0          0          1          0  \n",
              "1        6          0          0          0          0          0          1  \n",
              "2        0          0          0          0          0          0          0  \n",
              "3        1          1          0          0          0          0          0  \n",
              "4        2          0          1          0          0          0          0  \n",
              "\n",
              "[5 rows x 40 columns]"
            ],
            "text/html": [
              "\n",
              "  <div id=\"df-cce9e295-ee4f-4f1d-89b7-e4700202217b\">\n",
              "    <div class=\"colab-df-container\">\n",
              "      <div>\n",
              "<style scoped>\n",
              "    .dataframe tbody tr th:only-of-type {\n",
              "        vertical-align: middle;\n",
              "    }\n",
              "\n",
              "    .dataframe tbody tr th {\n",
              "        vertical-align: top;\n",
              "    }\n",
              "\n",
              "    .dataframe thead th {\n",
              "        text-align: right;\n",
              "    }\n",
              "</style>\n",
              "<table border=\"1\" class=\"dataframe\">\n",
              "  <thead>\n",
              "    <tr style=\"text-align: right;\">\n",
              "      <th></th>\n",
              "      <th>date</th>\n",
              "      <th>temp_avg</th>\n",
              "      <th>temp_min</th>\n",
              "      <th>temp_max</th>\n",
              "      <th>temp_observ</th>\n",
              "      <th>precip</th>\n",
              "      <th>wind</th>\n",
              "      <th>wt_fog</th>\n",
              "      <th>wt_heavy_fog</th>\n",
              "      <th>wt_thunder</th>\n",
              "      <th>...</th>\n",
              "      <th>summer</th>\n",
              "      <th>fall</th>\n",
              "      <th>date_datetime</th>\n",
              "      <th>weekday</th>\n",
              "      <th>weekday_1</th>\n",
              "      <th>weekday_2</th>\n",
              "      <th>weekday_3</th>\n",
              "      <th>weekday_4</th>\n",
              "      <th>weekday_5</th>\n",
              "      <th>weekday_6</th>\n",
              "    </tr>\n",
              "  </thead>\n",
              "  <tbody>\n",
              "    <tr>\n",
              "      <th>0</th>\n",
              "      <td>2011-01-01</td>\n",
              "      <td>NaN</td>\n",
              "      <td>-1.566667</td>\n",
              "      <td>11.973333</td>\n",
              "      <td>2.772727</td>\n",
              "      <td>0.069333</td>\n",
              "      <td>2.575</td>\n",
              "      <td>1.0</td>\n",
              "      <td>0.0</td>\n",
              "      <td>0.0</td>\n",
              "      <td>...</td>\n",
              "      <td>0</td>\n",
              "      <td>0</td>\n",
              "      <td>2011-01-01</td>\n",
              "      <td>5</td>\n",
              "      <td>0</td>\n",
              "      <td>0</td>\n",
              "      <td>0</td>\n",
              "      <td>0</td>\n",
              "      <td>1</td>\n",
              "      <td>0</td>\n",
              "    </tr>\n",
              "    <tr>\n",
              "      <th>1</th>\n",
              "      <td>2011-01-02</td>\n",
              "      <td>NaN</td>\n",
              "      <td>0.880000</td>\n",
              "      <td>13.806667</td>\n",
              "      <td>7.327273</td>\n",
              "      <td>1.037349</td>\n",
              "      <td>3.925</td>\n",
              "      <td>1.0</td>\n",
              "      <td>1.0</td>\n",
              "      <td>0.0</td>\n",
              "      <td>...</td>\n",
              "      <td>0</td>\n",
              "      <td>0</td>\n",
              "      <td>2011-01-02</td>\n",
              "      <td>6</td>\n",
              "      <td>0</td>\n",
              "      <td>0</td>\n",
              "      <td>0</td>\n",
              "      <td>0</td>\n",
              "      <td>0</td>\n",
              "      <td>1</td>\n",
              "    </tr>\n",
              "    <tr>\n",
              "      <th>2</th>\n",
              "      <td>2011-01-03</td>\n",
              "      <td>NaN</td>\n",
              "      <td>-3.442857</td>\n",
              "      <td>7.464286</td>\n",
              "      <td>-3.060000</td>\n",
              "      <td>1.878824</td>\n",
              "      <td>3.625</td>\n",
              "      <td>0.0</td>\n",
              "      <td>0.0</td>\n",
              "      <td>0.0</td>\n",
              "      <td>...</td>\n",
              "      <td>0</td>\n",
              "      <td>0</td>\n",
              "      <td>2011-01-03</td>\n",
              "      <td>0</td>\n",
              "      <td>0</td>\n",
              "      <td>0</td>\n",
              "      <td>0</td>\n",
              "      <td>0</td>\n",
              "      <td>0</td>\n",
              "      <td>0</td>\n",
              "    </tr>\n",
              "    <tr>\n",
              "      <th>3</th>\n",
              "      <td>2011-01-04</td>\n",
              "      <td>NaN</td>\n",
              "      <td>-5.957143</td>\n",
              "      <td>4.642857</td>\n",
              "      <td>-3.100000</td>\n",
              "      <td>0.000000</td>\n",
              "      <td>1.800</td>\n",
              "      <td>0.0</td>\n",
              "      <td>0.0</td>\n",
              "      <td>0.0</td>\n",
              "      <td>...</td>\n",
              "      <td>0</td>\n",
              "      <td>0</td>\n",
              "      <td>2011-01-04</td>\n",
              "      <td>1</td>\n",
              "      <td>1</td>\n",
              "      <td>0</td>\n",
              "      <td>0</td>\n",
              "      <td>0</td>\n",
              "      <td>0</td>\n",
              "      <td>0</td>\n",
              "    </tr>\n",
              "    <tr>\n",
              "      <th>4</th>\n",
              "      <td>2011-01-05</td>\n",
              "      <td>NaN</td>\n",
              "      <td>-4.293333</td>\n",
              "      <td>6.113333</td>\n",
              "      <td>-1.772727</td>\n",
              "      <td>0.000000</td>\n",
              "      <td>2.950</td>\n",
              "      <td>0.0</td>\n",
              "      <td>0.0</td>\n",
              "      <td>0.0</td>\n",
              "      <td>...</td>\n",
              "      <td>0</td>\n",
              "      <td>0</td>\n",
              "      <td>2011-01-05</td>\n",
              "      <td>2</td>\n",
              "      <td>0</td>\n",
              "      <td>1</td>\n",
              "      <td>0</td>\n",
              "      <td>0</td>\n",
              "      <td>0</td>\n",
              "      <td>0</td>\n",
              "    </tr>\n",
              "  </tbody>\n",
              "</table>\n",
              "<p>5 rows × 40 columns</p>\n",
              "</div>\n",
              "      <button class=\"colab-df-convert\" onclick=\"convertToInteractive('df-cce9e295-ee4f-4f1d-89b7-e4700202217b')\"\n",
              "              title=\"Convert this dataframe to an interactive table.\"\n",
              "              style=\"display:none;\">\n",
              "        \n",
              "  <svg xmlns=\"http://www.w3.org/2000/svg\" height=\"24px\"viewBox=\"0 0 24 24\"\n",
              "       width=\"24px\">\n",
              "    <path d=\"M0 0h24v24H0V0z\" fill=\"none\"/>\n",
              "    <path d=\"M18.56 5.44l.94 2.06.94-2.06 2.06-.94-2.06-.94-.94-2.06-.94 2.06-2.06.94zm-11 1L8.5 8.5l.94-2.06 2.06-.94-2.06-.94L8.5 2.5l-.94 2.06-2.06.94zm10 10l.94 2.06.94-2.06 2.06-.94-2.06-.94-.94-2.06-.94 2.06-2.06.94z\"/><path d=\"M17.41 7.96l-1.37-1.37c-.4-.4-.92-.59-1.43-.59-.52 0-1.04.2-1.43.59L10.3 9.45l-7.72 7.72c-.78.78-.78 2.05 0 2.83L4 21.41c.39.39.9.59 1.41.59.51 0 1.02-.2 1.41-.59l7.78-7.78 2.81-2.81c.8-.78.8-2.07 0-2.86zM5.41 20L4 18.59l7.72-7.72 1.47 1.35L5.41 20z\"/>\n",
              "  </svg>\n",
              "      </button>\n",
              "      \n",
              "  <style>\n",
              "    .colab-df-container {\n",
              "      display:flex;\n",
              "      flex-wrap:wrap;\n",
              "      gap: 12px;\n",
              "    }\n",
              "\n",
              "    .colab-df-convert {\n",
              "      background-color: #E8F0FE;\n",
              "      border: none;\n",
              "      border-radius: 50%;\n",
              "      cursor: pointer;\n",
              "      display: none;\n",
              "      fill: #1967D2;\n",
              "      height: 32px;\n",
              "      padding: 0 0 0 0;\n",
              "      width: 32px;\n",
              "    }\n",
              "\n",
              "    .colab-df-convert:hover {\n",
              "      background-color: #E2EBFA;\n",
              "      box-shadow: 0px 1px 2px rgba(60, 64, 67, 0.3), 0px 1px 3px 1px rgba(60, 64, 67, 0.15);\n",
              "      fill: #174EA6;\n",
              "    }\n",
              "\n",
              "    [theme=dark] .colab-df-convert {\n",
              "      background-color: #3B4455;\n",
              "      fill: #D2E3FC;\n",
              "    }\n",
              "\n",
              "    [theme=dark] .colab-df-convert:hover {\n",
              "      background-color: #434B5C;\n",
              "      box-shadow: 0px 1px 3px 1px rgba(0, 0, 0, 0.15);\n",
              "      filter: drop-shadow(0px 1px 2px rgba(0, 0, 0, 0.3));\n",
              "      fill: #FFFFFF;\n",
              "    }\n",
              "  </style>\n",
              "\n",
              "      <script>\n",
              "        const buttonEl =\n",
              "          document.querySelector('#df-cce9e295-ee4f-4f1d-89b7-e4700202217b button.colab-df-convert');\n",
              "        buttonEl.style.display =\n",
              "          google.colab.kernel.accessAllowed ? 'block' : 'none';\n",
              "\n",
              "        async function convertToInteractive(key) {\n",
              "          const element = document.querySelector('#df-cce9e295-ee4f-4f1d-89b7-e4700202217b');\n",
              "          const dataTable =\n",
              "            await google.colab.kernel.invokeFunction('convertToInteractive',\n",
              "                                                     [key], {});\n",
              "          if (!dataTable) return;\n",
              "\n",
              "          const docLinkHtml = 'Like what you see? Visit the ' +\n",
              "            '<a target=\"_blank\" href=https://colab.research.google.com/notebooks/data_table.ipynb>data table notebook</a>'\n",
              "            + ' to learn more about interactive tables.';\n",
              "          element.innerHTML = '';\n",
              "          dataTable['output_type'] = 'display_data';\n",
              "          await google.colab.output.renderOutput(dataTable, element);\n",
              "          const docLink = document.createElement('div');\n",
              "          docLink.innerHTML = docLinkHtml;\n",
              "          element.appendChild(docLink);\n",
              "        }\n",
              "      </script>\n",
              "    </div>\n",
              "  </div>\n",
              "  "
            ]
          },
          "metadata": {},
          "execution_count": 34
        }
      ]
    },
    {
      "cell_type": "code",
      "source": [
        "# create new feature working_day\n",
        "\n",
        "bike_data['working_day'] = bike_data['weekday'].apply(lambda x: 0 if x > 5 or x == 0 else 1)\n",
        "bike_data['working_day'] = bike_data[['holiday', 'working_day']].apply(\n",
        "    lambda x: 0 if x['holiday'] == 1 else x['working_day'], axis=1)\n",
        "bike_data.head(3)"
      ],
      "metadata": {
        "colab": {
          "base_uri": "https://localhost:8080/",
          "height": 341
        },
        "id": "tBzO-aSdz3Dh",
        "outputId": "e147cdc6-75a8-4432-b7a0-94aa009603b6"
      },
      "execution_count": null,
      "outputs": [
        {
          "output_type": "execute_result",
          "data": {
            "text/plain": [
              "         date  temp_avg  temp_min   temp_max  temp_observ    precip   wind  \\\n",
              "0  2011-01-01       NaN -1.566667  11.973333     2.772727  0.069333  2.575   \n",
              "1  2011-01-02       NaN  0.880000  13.806667     7.327273  1.037349  3.925   \n",
              "2  2011-01-03       NaN -3.442857   7.464286    -3.060000  1.878824  3.625   \n",
              "\n",
              "   wt_fog  wt_heavy_fog  wt_thunder  ...  fall  date_datetime  weekday  \\\n",
              "0     1.0           0.0         0.0  ...     0     2011-01-01        5   \n",
              "1     1.0           1.0         0.0  ...     0     2011-01-02        6   \n",
              "2     0.0           0.0         0.0  ...     0     2011-01-03        0   \n",
              "\n",
              "   weekday_1  weekday_2  weekday_3  weekday_4  weekday_5  weekday_6  \\\n",
              "0          0          0          0          0          1          0   \n",
              "1          0          0          0          0          0          1   \n",
              "2          0          0          0          0          0          0   \n",
              "\n",
              "   working_day  \n",
              "0          1.0  \n",
              "1          0.0  \n",
              "2          0.0  \n",
              "\n",
              "[3 rows x 41 columns]"
            ],
            "text/html": [
              "\n",
              "  <div id=\"df-48716afe-0a32-4cd4-8ca6-3f40d042bde7\">\n",
              "    <div class=\"colab-df-container\">\n",
              "      <div>\n",
              "<style scoped>\n",
              "    .dataframe tbody tr th:only-of-type {\n",
              "        vertical-align: middle;\n",
              "    }\n",
              "\n",
              "    .dataframe tbody tr th {\n",
              "        vertical-align: top;\n",
              "    }\n",
              "\n",
              "    .dataframe thead th {\n",
              "        text-align: right;\n",
              "    }\n",
              "</style>\n",
              "<table border=\"1\" class=\"dataframe\">\n",
              "  <thead>\n",
              "    <tr style=\"text-align: right;\">\n",
              "      <th></th>\n",
              "      <th>date</th>\n",
              "      <th>temp_avg</th>\n",
              "      <th>temp_min</th>\n",
              "      <th>temp_max</th>\n",
              "      <th>temp_observ</th>\n",
              "      <th>precip</th>\n",
              "      <th>wind</th>\n",
              "      <th>wt_fog</th>\n",
              "      <th>wt_heavy_fog</th>\n",
              "      <th>wt_thunder</th>\n",
              "      <th>...</th>\n",
              "      <th>fall</th>\n",
              "      <th>date_datetime</th>\n",
              "      <th>weekday</th>\n",
              "      <th>weekday_1</th>\n",
              "      <th>weekday_2</th>\n",
              "      <th>weekday_3</th>\n",
              "      <th>weekday_4</th>\n",
              "      <th>weekday_5</th>\n",
              "      <th>weekday_6</th>\n",
              "      <th>working_day</th>\n",
              "    </tr>\n",
              "  </thead>\n",
              "  <tbody>\n",
              "    <tr>\n",
              "      <th>0</th>\n",
              "      <td>2011-01-01</td>\n",
              "      <td>NaN</td>\n",
              "      <td>-1.566667</td>\n",
              "      <td>11.973333</td>\n",
              "      <td>2.772727</td>\n",
              "      <td>0.069333</td>\n",
              "      <td>2.575</td>\n",
              "      <td>1.0</td>\n",
              "      <td>0.0</td>\n",
              "      <td>0.0</td>\n",
              "      <td>...</td>\n",
              "      <td>0</td>\n",
              "      <td>2011-01-01</td>\n",
              "      <td>5</td>\n",
              "      <td>0</td>\n",
              "      <td>0</td>\n",
              "      <td>0</td>\n",
              "      <td>0</td>\n",
              "      <td>1</td>\n",
              "      <td>0</td>\n",
              "      <td>1.0</td>\n",
              "    </tr>\n",
              "    <tr>\n",
              "      <th>1</th>\n",
              "      <td>2011-01-02</td>\n",
              "      <td>NaN</td>\n",
              "      <td>0.880000</td>\n",
              "      <td>13.806667</td>\n",
              "      <td>7.327273</td>\n",
              "      <td>1.037349</td>\n",
              "      <td>3.925</td>\n",
              "      <td>1.0</td>\n",
              "      <td>1.0</td>\n",
              "      <td>0.0</td>\n",
              "      <td>...</td>\n",
              "      <td>0</td>\n",
              "      <td>2011-01-02</td>\n",
              "      <td>6</td>\n",
              "      <td>0</td>\n",
              "      <td>0</td>\n",
              "      <td>0</td>\n",
              "      <td>0</td>\n",
              "      <td>0</td>\n",
              "      <td>1</td>\n",
              "      <td>0.0</td>\n",
              "    </tr>\n",
              "    <tr>\n",
              "      <th>2</th>\n",
              "      <td>2011-01-03</td>\n",
              "      <td>NaN</td>\n",
              "      <td>-3.442857</td>\n",
              "      <td>7.464286</td>\n",
              "      <td>-3.060000</td>\n",
              "      <td>1.878824</td>\n",
              "      <td>3.625</td>\n",
              "      <td>0.0</td>\n",
              "      <td>0.0</td>\n",
              "      <td>0.0</td>\n",
              "      <td>...</td>\n",
              "      <td>0</td>\n",
              "      <td>2011-01-03</td>\n",
              "      <td>0</td>\n",
              "      <td>0</td>\n",
              "      <td>0</td>\n",
              "      <td>0</td>\n",
              "      <td>0</td>\n",
              "      <td>0</td>\n",
              "      <td>0</td>\n",
              "      <td>0.0</td>\n",
              "    </tr>\n",
              "  </tbody>\n",
              "</table>\n",
              "<p>3 rows × 41 columns</p>\n",
              "</div>\n",
              "      <button class=\"colab-df-convert\" onclick=\"convertToInteractive('df-48716afe-0a32-4cd4-8ca6-3f40d042bde7')\"\n",
              "              title=\"Convert this dataframe to an interactive table.\"\n",
              "              style=\"display:none;\">\n",
              "        \n",
              "  <svg xmlns=\"http://www.w3.org/2000/svg\" height=\"24px\"viewBox=\"0 0 24 24\"\n",
              "       width=\"24px\">\n",
              "    <path d=\"M0 0h24v24H0V0z\" fill=\"none\"/>\n",
              "    <path d=\"M18.56 5.44l.94 2.06.94-2.06 2.06-.94-2.06-.94-.94-2.06-.94 2.06-2.06.94zm-11 1L8.5 8.5l.94-2.06 2.06-.94-2.06-.94L8.5 2.5l-.94 2.06-2.06.94zm10 10l.94 2.06.94-2.06 2.06-.94-2.06-.94-.94-2.06-.94 2.06-2.06.94z\"/><path d=\"M17.41 7.96l-1.37-1.37c-.4-.4-.92-.59-1.43-.59-.52 0-1.04.2-1.43.59L10.3 9.45l-7.72 7.72c-.78.78-.78 2.05 0 2.83L4 21.41c.39.39.9.59 1.41.59.51 0 1.02-.2 1.41-.59l7.78-7.78 2.81-2.81c.8-.78.8-2.07 0-2.86zM5.41 20L4 18.59l7.72-7.72 1.47 1.35L5.41 20z\"/>\n",
              "  </svg>\n",
              "      </button>\n",
              "      \n",
              "  <style>\n",
              "    .colab-df-container {\n",
              "      display:flex;\n",
              "      flex-wrap:wrap;\n",
              "      gap: 12px;\n",
              "    }\n",
              "\n",
              "    .colab-df-convert {\n",
              "      background-color: #E8F0FE;\n",
              "      border: none;\n",
              "      border-radius: 50%;\n",
              "      cursor: pointer;\n",
              "      display: none;\n",
              "      fill: #1967D2;\n",
              "      height: 32px;\n",
              "      padding: 0 0 0 0;\n",
              "      width: 32px;\n",
              "    }\n",
              "\n",
              "    .colab-df-convert:hover {\n",
              "      background-color: #E2EBFA;\n",
              "      box-shadow: 0px 1px 2px rgba(60, 64, 67, 0.3), 0px 1px 3px 1px rgba(60, 64, 67, 0.15);\n",
              "      fill: #174EA6;\n",
              "    }\n",
              "\n",
              "    [theme=dark] .colab-df-convert {\n",
              "      background-color: #3B4455;\n",
              "      fill: #D2E3FC;\n",
              "    }\n",
              "\n",
              "    [theme=dark] .colab-df-convert:hover {\n",
              "      background-color: #434B5C;\n",
              "      box-shadow: 0px 1px 3px 1px rgba(0, 0, 0, 0.15);\n",
              "      filter: drop-shadow(0px 1px 2px rgba(0, 0, 0, 0.3));\n",
              "      fill: #FFFFFF;\n",
              "    }\n",
              "  </style>\n",
              "\n",
              "      <script>\n",
              "        const buttonEl =\n",
              "          document.querySelector('#df-48716afe-0a32-4cd4-8ca6-3f40d042bde7 button.colab-df-convert');\n",
              "        buttonEl.style.display =\n",
              "          google.colab.kernel.accessAllowed ? 'block' : 'none';\n",
              "\n",
              "        async function convertToInteractive(key) {\n",
              "          const element = document.querySelector('#df-48716afe-0a32-4cd4-8ca6-3f40d042bde7');\n",
              "          const dataTable =\n",
              "            await google.colab.kernel.invokeFunction('convertToInteractive',\n",
              "                                                     [key], {});\n",
              "          if (!dataTable) return;\n",
              "\n",
              "          const docLinkHtml = 'Like what you see? Visit the ' +\n",
              "            '<a target=\"_blank\" href=https://colab.research.google.com/notebooks/data_table.ipynb>data table notebook</a>'\n",
              "            + ' to learn more about interactive tables.';\n",
              "          element.innerHTML = '';\n",
              "          dataTable['output_type'] = 'display_data';\n",
              "          await google.colab.output.renderOutput(dataTable, element);\n",
              "          const docLink = document.createElement('div');\n",
              "          docLink.innerHTML = docLinkHtml;\n",
              "          element.appendChild(docLink);\n",
              "        }\n",
              "      </script>\n",
              "    </div>\n",
              "  </div>\n",
              "  "
            ]
          },
          "metadata": {},
          "execution_count": 37
        }
      ]
    },
    {
      "cell_type": "markdown",
      "source": [
        "**Dropping unnecessary columns**\n",
        "\n",
        "I will drop the date feature and keep the date_datetime feature to have the feature with the correct date formatting. The registered and casual features will also be dropped because they are sub-features of the total_cust target label. I will also drop the temp_avg variable."
      ],
      "metadata": {
        "id": "_Ub_QUAl0f6c"
      }
    },
    {
      "cell_type": "code",
      "source": [
        "bike_data.drop(columns=['date', 'temp_avg', 'registered', 'casual'], inplace=True)"
      ],
      "metadata": {
        "id": "jkB0Vl3B0sqD"
      },
      "execution_count": null,
      "outputs": []
    },
    {
      "cell_type": "markdown",
      "source": [
        "## **Exploratory Data Analysis**"
      ],
      "metadata": {
        "id": "jrSdrtOc1DTx"
      }
    },
    {
      "cell_type": "markdown",
      "source": [
        "We will start with analysing the categorical variables, that is, seasons"
      ],
      "metadata": {
        "id": "eSTwAf4d1Pxn"
      }
    },
    {
      "cell_type": "code",
      "source": [
        "# variable to be used below to iterate through the columns and plot them\n",
        "\n",
        "season = ['spring', 'summer', 'fall']\n",
        "\n",
        "# plot boxplots for season versus number of users\n",
        "\n",
        "plt.figure(figsize = [15, 5])\n",
        "\n",
        "# boxplot for feature workingday\n",
        "\n",
        "plt.subplot(1, 3, 1)\n",
        "sb.boxplot(data = bike_data, x = 'spring', y = 'total_cust')\n",
        "plt.xlabel('Spring')\n",
        "plt.ylabel('Number of customers')\n",
        "\n",
        "# boxplot for feature weekday\n",
        "\n",
        "plt.subplot(1, 3, 2)\n",
        "sb.boxplot(data = bike_data, x = 'summer', y = 'total_cust')\n",
        "plt.xlabel('Summer')\n",
        "plt.ylabel('Number of customers')\n",
        "\n",
        "# boxplot for feature holiday\n",
        "colors = ['lightblue', 'lightgreen']\n",
        "plt.subplot(1, 3, 3)\n",
        "sb.boxplot(data = bike_data, x = 'fall', y = 'total_cust')\n",
        "plt.xlabel('Fall')\n",
        "plt.ylabel('Number of customers');\n",
        "\n",
        "plt.tight_layout(pad=3.0) # Using padding to space the subplots for better viewing\n",
        "plt.show();"
      ],
      "metadata": {
        "colab": {
          "base_uri": "https://localhost:8080/",
          "height": 331
        },
        "id": "w4G6T4DJ1IP0",
        "outputId": "417413d9-f02a-467f-871c-06e7cacff279"
      },
      "execution_count": null,
      "outputs": [
        {
          "output_type": "display_data",
          "data": {
            "text/plain": [
              "<Figure size 1080x360 with 3 Axes>"
            ],
            "image/png": "[encoded data removed]"
          },
          "metadata": {
            "needs_background": "light"
          }
        }
      ]
    },
    {
      "cell_type": "markdown",
      "source": [
        " Correlation between season features and the maximum temperature\n",
        "\n",
        "*   using the Kruskal Wallis H test for correlations between a continuous and categorical variable\n",
        "\n"
      ],
      "metadata": {
        "id": "3VK-Q5k85CY1"
      }
    },
    {
      "cell_type": "code",
      "source": [
        "kruskal(bike_data['temp_max'], bike_data['summer'])"
      ],
      "metadata": {
        "id": "Ib6SG7PV5Mif",
        "outputId": "def3a0d8-c0e1-4e71-f502-84746623db3f",
        "colab": {
          "base_uri": "https://localhost:8080/"
        }
      },
      "execution_count": null,
      "outputs": [
        {
          "output_type": "execute_result",
          "data": {
            "text/plain": [
              "KruskalResult(statistic=4190.233790975473, pvalue=0.0)"
            ]
          },
          "metadata": {},
          "execution_count": 52
        }
      ]
    },
    {
      "cell_type": "markdown",
      "source": [
        "The season feature clearly determines the customer demand for bikes, so this feature will be used for the final model."
      ],
      "metadata": {
        "id": "X-lstAer5gro"
      }
    },
    {
      "cell_type": "markdown",
      "source": [
        "### **Holiday**\n",
        "The features holiday, weekday and workingday have some overlaps in their prediction of customer demand, thus, I will first analyze each individual feature and then investigate their correlation."
      ],
      "metadata": {
        "id": "T7iXFfFX5smW"
      }
    },
    {
      "cell_type": "code",
      "source": [
        "# plotting the customer statistics in form of a boxplot for the holiday feature\n",
        "\n",
        "sb.boxplot(data = bike_data, x = 'holiday', y = 'total_cust');"
      ],
      "metadata": {
        "id": "PVVZcn5D50yG",
        "outputId": "33c5d51a-1d0b-4f03-a185-6e7dca4f9c89",
        "colab": {
          "base_uri": "https://localhost:8080/",
          "height": 283
        }
      },
      "execution_count": null,
      "outputs": [
        {
          "output_type": "display_data",
          "data": {
            "text/plain": [
              "<Figure size 432x288 with 1 Axes>"
            ],
            "image/png": "[encoded data removed]"
          },
          "metadata": {
            "needs_background": "light"
          }
        }
      ]
    },
    {
      "cell_type": "markdown",
      "source": [
        "For the holiday feature, we can clearly see that there is on average a higher demand for bikes on days that are not holidays. This feature will be used in the final model to predict the overall demand."
      ],
      "metadata": {
        "id": "-_fgaOZu6dE6"
      }
    },
    {
      "cell_type": "code",
      "source": [
        "# Correlation between holiday feature and the number of customers per day\n",
        "\n",
        "# using the Kruskal Wallis H test for correlations between a continuous and categorical variable\n",
        "\n",
        "kruskal(bike_data['holiday'], bike_data['total_cust'])"
      ],
      "metadata": {
        "id": "UCebhOEF6d89",
        "outputId": "876a3b71-f5a8-43bf-8a43-26b8fab11391",
        "colab": {
          "base_uri": "https://localhost:8080/"
        }
      },
      "execution_count": null,
      "outputs": [
        {
          "output_type": "execute_result",
          "data": {
            "text/plain": [
              "KruskalResult(statistic=4945.69275502358, pvalue=0.0)"
            ]
          },
          "metadata": {},
          "execution_count": 54
        }
      ]
    },
    {
      "cell_type": "markdown",
      "source": [
        "### **Weekday**"
      ],
      "metadata": {
        "id": "R6le072_6ykU"
      }
    },
    {
      "cell_type": "code",
      "source": [
        "# plotting the customer statistics in form of a boxplot for the weekday feature\n",
        "\n",
        "plt.figure(figsize = [15, 5])\n",
        "sb.boxplot(data = bike_data, x = 'weekday', y = 'total_cust')\n",
        "plt.xlabel('Weekday')\n",
        "plt.ylabel('Number of customers');"
      ],
      "metadata": {
        "id": "wPL6mELx66uO",
        "outputId": "fac7008f-bcbd-46cb-de76-bcab6fa45715",
        "colab": {
          "base_uri": "https://localhost:8080/",
          "height": 337
        }
      },
      "execution_count": null,
      "outputs": [
        {
          "output_type": "display_data",
          "data": {
            "text/plain": [
              "<Figure size 1080x360 with 1 Axes>"
            ],
            "image/png": "[encoded data removed]"
          },
          "metadata": {
            "needs_background": "light"
          }
        }
      ]
    },
    {
      "cell_type": "code",
      "source": [
        "# Correlation between weekday feature and the number of customers per day\n",
        "\n",
        "# using Pearson's correlation coefficient because I'm assuming that weekday can be \n",
        "\n",
        "# considered a continuous variable\n",
        "\n",
        "pearsonr(bike_data['weekday'], bike_data['total_cust'])"
      ],
      "metadata": {
        "id": "vTcALPE57Hmz",
        "outputId": "b6b64fa4-389c-44d9-8b55-536bb5a0ae66",
        "colab": {
          "base_uri": "https://localhost:8080/"
        }
      },
      "execution_count": null,
      "outputs": [
        {
          "output_type": "execute_result",
          "data": {
            "text/plain": [
              "(-0.024760898572408853, 0.18086518739719304)"
            ]
          },
          "metadata": {},
          "execution_count": 56
        }
      ]
    },
    {
      "cell_type": "markdown",
      "source": [
        "Based on the above distributions of number of customers per weekday, it appears that there are slight difference in demand depending on what weekday it is. Thus, the weekday will be considered to forecast the bike demand. But I still need to onehot encode the weekday because it is a categorical feature."
      ],
      "metadata": {
        "id": "STXo89dM7ZsA"
      }
    },
    {
      "cell_type": "markdown",
      "source": [
        "### **Workingday**"
      ],
      "metadata": {
        "id": "iMzp_-C18R_3"
      }
    },
    {
      "cell_type": "code",
      "source": [
        "# plotting workday feature in boxplot against the count of customers\n",
        "\n",
        "sb.boxplot(data = bike_data, x = 'working_day', y = 'total_cust')\n",
        "plt.xlabel('Working day or not')\n",
        "plt.ylabel('Number of customers');"
      ],
      "metadata": {
        "id": "oS-DXKVt8V8c",
        "outputId": "d74e4710-89f1-4de2-d179-7fd480a22445",
        "colab": {
          "base_uri": "https://localhost:8080/",
          "height": 283
        }
      },
      "execution_count": 57,
      "outputs": [
        {
          "output_type": "display_data",
          "data": {
            "text/plain": [
              "<Figure size 432x288 with 1 Axes>"
            ],
            "image/png": "[encoded data removed]"
          },
          "metadata": {
            "needs_background": "light"
          }
        }
      ]
    },
    {
      "cell_type": "code",
      "source": [
        "# Correlation between working_day feature and the number of customers per day\n",
        "\n",
        "# using the Kruskal Wallis H test for correlations between a continuous and categorical variable\n",
        "\n",
        "kruskal(bike_data['working_day'], bike_data['total_cust'])"
      ],
      "metadata": {
        "id": "DZW-dSoR8gxE",
        "outputId": "8b859a83-2560-486f-c01d-d8e2925ea83b",
        "colab": {
          "base_uri": "https://localhost:8080/"
        }
      },
      "execution_count": 58,
      "outputs": [
        {
          "output_type": "execute_result",
          "data": {
            "text/plain": [
              "KruskalResult(statistic=4596.399701396863, pvalue=0.0)"
            ]
          },
          "metadata": {},
          "execution_count": 58
        }
      ]
    },
    {
      "cell_type": "code",
      "source": [
        "# create a new dataframe that encodes the weekday feature with 0 for monday through friday\n",
        "# and 1 for saturday and sunday\n",
        "\n",
        "weekend_distinct_df = bike_data.copy()\n",
        "weekend_distinct_df['weekday'] = weekend_distinct_df['weekday'].apply(lambda x: 1 if (x == 6 or x == 0) else 0)"
      ],
      "metadata": {
        "id": "KURTjEuV8r9U"
      },
      "execution_count": 59,
      "outputs": []
    },
    {
      "cell_type": "code",
      "source": [
        "# plot boxplots for comparison between the weekday and workingday feature\n",
        "\n",
        "plt.figure(figsize = [15, 5])\n",
        "\n",
        "# boxplot for feature workingday\n",
        "\n",
        "plt.subplot(1, 3, 1)\n",
        "sb.boxplot(data = bike_data, x = 'working_day', y = 'total_cust');\n",
        "\n",
        "# boxplot for feature weekday\n",
        "\n",
        "plt.subplot(1, 3, 2)\n",
        "sb.boxplot(data = weekend_distinct_df, x = 'weekday', y = 'total_cust');\n",
        "\n",
        "# boxplot for feature holiday\n",
        "\n",
        "plt.subplot(1, 3, 3)\n",
        "sb.boxplot(data = bike_data, x = 'holiday', y = 'total_cust');\n",
        "\n",
        "plt.tight_layout(pad=3.0) # Using padding to space the subplots for better viewing\n",
        "plt.show();"
      ],
      "metadata": {
        "id": "UYoi_cS482gj",
        "outputId": "3a62984b-ebe9-42c4-aa64-2b4057824133",
        "colab": {
          "base_uri": "https://localhost:8080/",
          "height": 331
        }
      },
      "execution_count": 63,
      "outputs": [
        {
          "output_type": "display_data",
          "data": {
            "text/plain": [
              "<Figure size 1080x360 with 3 Axes>"
            ],
            "image/png": "[encoded data removed]"
          },
          "metadata": {
            "needs_background": "light"
          }
        }
      ]
    },
    {
      "cell_type": "code",
      "source": [
        "# plot the means of each instance of workingday\n",
        "\n",
        "bike_data.groupby('working_day')['total_cust'].mean()"
      ],
      "metadata": {
        "id": "DLaC1RK79W-G",
        "outputId": "1dc7a922-868a-45b9-ee56-0c8d4ec9cf4f",
        "colab": {
          "base_uri": "https://localhost:8080/"
        }
      },
      "execution_count": 64,
      "outputs": [
        {
          "output_type": "execute_result",
          "data": {
            "text/plain": [
              "working_day\n",
              "0.0    7262.673563\n",
              "1.0    7913.302144\n",
              "Name: total_cust, dtype: float64"
            ]
          },
          "metadata": {},
          "execution_count": 64
        }
      ]
    },
    {
      "cell_type": "code",
      "source": [
        "# plot the means of each instance of weekday\n",
        "\n",
        "weekend_distinct_df.groupby('weekday')['total_cust'].mean()"
      ],
      "metadata": {
        "id": "0cnbIh949jgi",
        "outputId": "c2df74e4-175f-4027-87a7-7e6fd1e34873",
        "colab": {
          "base_uri": "https://localhost:8080/"
        }
      },
      "execution_count": 65,
      "outputs": [
        {
          "output_type": "execute_result",
          "data": {
            "text/plain": [
              "weekday\n",
              "0    7878.716203\n",
              "1    7322.511962\n",
              "Name: total_cust, dtype: float64"
            ]
          },
          "metadata": {},
          "execution_count": 65
        }
      ]
    },
    {
      "cell_type": "code",
      "source": [
        "# plot the means of each instance of holiday\n",
        "\n",
        "bike_data.groupby('holiday')['total_cust'].mean()"
      ],
      "metadata": {
        "id": "43kB9JfS9nh2",
        "outputId": "52a0add8-acac-4c75-8b8f-9e754bf0eefb",
        "colab": {
          "base_uri": "https://localhost:8080/"
        }
      },
      "execution_count": 66,
      "outputs": [
        {
          "output_type": "execute_result",
          "data": {
            "text/plain": [
              "holiday\n",
              "0.0    7771.698200\n",
              "1.0    6060.685393\n",
              "Name: total_cust, dtype: float64"
            ]
          },
          "metadata": {},
          "execution_count": 66
        }
      ]
    },
    {
      "cell_type": "markdown",
      "source": [
        "**The features holiday, weekday and workingday are correlated with each other as well as with the target variable total_cust. However, they contain slightly different information that may be useful for predicting the target variable. Thus, they will all be used for the model**"
      ],
      "metadata": {
        "id": "bpMxui4g9z29"
      }
    }
  ]
}