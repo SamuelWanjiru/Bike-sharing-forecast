{
  "nbformat": 4,
  "nbformat_minor": 0,
  "metadata": {
    "colab": {
      "provenance": [],
      "authorship_tag": "ABX9TyMrmfVkd7Onorwlsww3BK/c",
      "include_colab_link": true
    },
    "kernelspec": {
      "name": "python3",
      "display_name": "Python 3"
    },
    "language_info": {
      "name": "python"
    }
  },
  "cells": [
    {
      "cell_type": "markdown",
      "metadata": {
        "id": "view-in-github",
        "colab_type": "text"
      },
      "source": [
        "<a href=\"https://colab.research.google.com/github/SamuelWanjiru/Bike-sharing-forecast/blob/main/BikeSharing.ipynb\" target=\"_parent\"><img src=\"https://colab.research.google.com/assets/colab-badge.svg\" alt=\"Open In Colab\"/></a>"
      ]
    },
    {
      "cell_type": "code",
      "execution_count": null,
      "metadata": {
        "id": "p4r10_YSRCF-"
      },
      "outputs": [],
      "source": []
    },
    {
      "cell_type": "markdown",
      "source": [
        "#  **Bike Sharing Washington DC 🚲** \n",
        "---\n",
        "## **Context**\n",
        "Climate change is forcing cities to re-imaging their transportation infrastructure. Shared mobility concepts, such as car sharing, bike sharing or scooter sharing become more and more popular.\n",
        "And if they are implemented well, they can actually contribute to mitigating climate change. Bike sharing in particular is interesting because no electricity of gasoline is necessary (unless e-bikes are used) for this mode of transportation. However, there are inherent problems to this type of shared mobility:\n",
        "*   varying demand at bike sharing stations needs to be balanced to avoid oversupply or shortages\n",
        "*   Heavily used bikes break down more often\n",
        "\n",
        "Forecasting the future demand can help address those issues. Moreover, demand forecasts can help operators decide whether to expand the business, determine adequate prices and generate additional income through advertisements at particularly busy stations.\n",
        "But that's not all. Another challenge is redistributing bikes between stations and determining the optimal routes. And determining the location of new stations is also an area of interest for operators.\n",
        "\n",
        "## **Content**\n",
        "This dataset can be used to forecast demand to avoid oversupply and shortages. It spans from January 1, 2011, until December 31, 2018. Determining new station locations, analyzing movement patterns or planning routes will only be possible with additional data."
      ],
      "metadata": {
        "id": "AeKNx9d8RMBU"
      }
    },
    {
      "cell_type": "markdown",
      "source": [
        "## **Connecting/mounting the google drive**"
      ],
      "metadata": {
        "id": "kX4bevJCTrHA"
      }
    },
    {
      "cell_type": "code",
      "source": [
        "from google.colab import drive \n",
        "drive.mount('/content/gdrive')"
      ],
      "metadata": {
        "colab": {
          "base_uri": "https://localhost:8080/"
        },
        "id": "Lo-JgHVKTde_",
        "outputId": "ab60ae27-47f2-4065-e931-8ab06f445621"
      },
      "execution_count": 1,
      "outputs": [
        {
          "output_type": "stream",
          "name": "stdout",
          "text": [
            "Mounted at /content/gdrive\n"
          ]
        }
      ]
    },
    {
      "cell_type": "markdown",
      "source": [
        "## **Importing the relevant data analysis libraries**"
      ],
      "metadata": {
        "id": "-VCf3rxMT3pT"
      }
    },
    {
      "cell_type": "code",
      "source": [
        "import pandas as pd\n",
        "import numpy as np \n",
        "import matplotlib.pyplot as plt\n",
        "import seaborn as sb\n",
        "import math\n",
        "from scipy.stats import kruskal, pearsonr, randint, uniform, chi2_contingency, boxcox"
      ],
      "metadata": {
        "id": "p42ovMkyUA1w"
      },
      "execution_count": 4,
      "outputs": []
    },
    {
      "cell_type": "markdown",
      "source": [
        "### Loading the dataset from google drive"
      ],
      "metadata": {
        "id": "z5s0-xa-VAnW"
      }
    },
    {
      "cell_type": "code",
      "source": [
        "bike_data=pd.read_csv(r'/content/gdrive/My Drive/KAGGLE PROJECTS/Bike Sharing Washington DC/bike_sharing_dataset.csv',parse_dates=['date'])"
      ],
      "metadata": {
        "id": "lmz2NK6VVIWU"
      },
      "execution_count": 6,
      "outputs": []
    },
    {
      "cell_type": "markdown",
      "source": [
        "### Understanding the data"
      ],
      "metadata": {
        "id": "yb43OIltV161"
      }
    },
    {
      "cell_type": "code",
      "source": [
        "# Displaying the 1st 5 rows of the bike dataset\n",
        "bike_data.head()"
      ],
      "metadata": {
        "colab": {
          "base_uri": "https://localhost:8080/",
          "height": 473
        },
        "id": "wF6HyE7OV50H",
        "outputId": "52fa9850-a964-4e9b-80ad-930d5d532223"
      },
      "execution_count": 7,
      "outputs": [
        {
          "output_type": "execute_result",
          "data": {
            "text/plain": [
              "        date  temp_avg  temp_min   temp_max  temp_observ    precip   wind  \\\n",
              "0 2011-01-01       NaN -1.566667  11.973333     2.772727  0.069333  2.575   \n",
              "1 2011-01-02       NaN  0.880000  13.806667     7.327273  1.037349  3.925   \n",
              "2 2011-01-03       NaN -3.442857   7.464286    -3.060000  1.878824  3.625   \n",
              "3 2011-01-04       NaN -5.957143   4.642857    -3.100000  0.000000  1.800   \n",
              "4 2011-01-05       NaN -4.293333   6.113333    -1.772727  0.000000  2.950   \n",
              "\n",
              "   wt_fog  wt_heavy_fog  wt_thunder  ...  wt_freeze_rain  wt_snow  \\\n",
              "0     1.0           NaN         NaN  ...             NaN      NaN   \n",
              "1     1.0           1.0         NaN  ...             NaN      NaN   \n",
              "2     NaN           NaN         NaN  ...             NaN      NaN   \n",
              "3     NaN           NaN         NaN  ...             NaN      NaN   \n",
              "4     NaN           NaN         NaN  ...             NaN      NaN   \n",
              "\n",
              "   wt_ground_fog  wt_ice_fog  wt_freeze_drizzle  wt_unknown  casual  \\\n",
              "0            NaN         NaN                NaN         NaN   330.0   \n",
              "1            NaN         NaN                NaN         NaN   130.0   \n",
              "2            NaN         NaN                NaN         NaN   120.0   \n",
              "3            NaN         NaN                NaN         NaN   107.0   \n",
              "4            NaN         NaN                NaN         NaN    82.0   \n",
              "\n",
              "   registered  total_cust  holiday  \n",
              "0       629.0       959.0      NaN  \n",
              "1       651.0       781.0      NaN  \n",
              "2      1181.0      1301.0      NaN  \n",
              "3      1429.0      1536.0      NaN  \n",
              "4      1489.0      1571.0      NaN  \n",
              "\n",
              "[5 rows x 29 columns]"
            ],
            "text/html": [
              "\n",
              "  <div id=\"df-4598f296-264d-4dec-ac31-265e6d41efd8\">\n",
              "    <div class=\"colab-df-container\">\n",
              "      <div>\n",
              "<style scoped>\n",
              "    .dataframe tbody tr th:only-of-type {\n",
              "        vertical-align: middle;\n",
              "    }\n",
              "\n",
              "    .dataframe tbody tr th {\n",
              "        vertical-align: top;\n",
              "    }\n",
              "\n",
              "    .dataframe thead th {\n",
              "        text-align: right;\n",
              "    }\n",
              "</style>\n",
              "<table border=\"1\" class=\"dataframe\">\n",
              "  <thead>\n",
              "    <tr style=\"text-align: right;\">\n",
              "      <th></th>\n",
              "      <th>date</th>\n",
              "      <th>temp_avg</th>\n",
              "      <th>temp_min</th>\n",
              "      <th>temp_max</th>\n",
              "      <th>temp_observ</th>\n",
              "      <th>precip</th>\n",
              "      <th>wind</th>\n",
              "      <th>wt_fog</th>\n",
              "      <th>wt_heavy_fog</th>\n",
              "      <th>wt_thunder</th>\n",
              "      <th>...</th>\n",
              "      <th>wt_freeze_rain</th>\n",
              "      <th>wt_snow</th>\n",
              "      <th>wt_ground_fog</th>\n",
              "      <th>wt_ice_fog</th>\n",
              "      <th>wt_freeze_drizzle</th>\n",
              "      <th>wt_unknown</th>\n",
              "      <th>casual</th>\n",
              "      <th>registered</th>\n",
              "      <th>total_cust</th>\n",
              "      <th>holiday</th>\n",
              "    </tr>\n",
              "  </thead>\n",
              "  <tbody>\n",
              "    <tr>\n",
              "      <th>0</th>\n",
              "      <td>2011-01-01</td>\n",
              "      <td>NaN</td>\n",
              "      <td>-1.566667</td>\n",
              "      <td>11.973333</td>\n",
              "      <td>2.772727</td>\n",
              "      <td>0.069333</td>\n",
              "      <td>2.575</td>\n",
              "      <td>1.0</td>\n",
              "      <td>NaN</td>\n",
              "      <td>NaN</td>\n",
              "      <td>...</td>\n",
              "      <td>NaN</td>\n",
              "      <td>NaN</td>\n",
              "      <td>NaN</td>\n",
              "      <td>NaN</td>\n",
              "      <td>NaN</td>\n",
              "      <td>NaN</td>\n",
              "      <td>330.0</td>\n",
              "      <td>629.0</td>\n",
              "      <td>959.0</td>\n",
              "      <td>NaN</td>\n",
              "    </tr>\n",
              "    <tr>\n",
              "      <th>1</th>\n",
              "      <td>2011-01-02</td>\n",
              "      <td>NaN</td>\n",
              "      <td>0.880000</td>\n",
              "      <td>13.806667</td>\n",
              "      <td>7.327273</td>\n",
              "      <td>1.037349</td>\n",
              "      <td>3.925</td>\n",
              "      <td>1.0</td>\n",
              "      <td>1.0</td>\n",
              "      <td>NaN</td>\n",
              "      <td>...</td>\n",
              "      <td>NaN</td>\n",
              "      <td>NaN</td>\n",
              "      <td>NaN</td>\n",
              "      <td>NaN</td>\n",
              "      <td>NaN</td>\n",
              "      <td>NaN</td>\n",
              "      <td>130.0</td>\n",
              "      <td>651.0</td>\n",
              "      <td>781.0</td>\n",
              "      <td>NaN</td>\n",
              "    </tr>\n",
              "    <tr>\n",
              "      <th>2</th>\n",
              "      <td>2011-01-03</td>\n",
              "      <td>NaN</td>\n",
              "      <td>-3.442857</td>\n",
              "      <td>7.464286</td>\n",
              "      <td>-3.060000</td>\n",
              "      <td>1.878824</td>\n",
              "      <td>3.625</td>\n",
              "      <td>NaN</td>\n",
              "      <td>NaN</td>\n",
              "      <td>NaN</td>\n",
              "      <td>...</td>\n",
              "      <td>NaN</td>\n",
              "      <td>NaN</td>\n",
              "      <td>NaN</td>\n",
              "      <td>NaN</td>\n",
              "      <td>NaN</td>\n",
              "      <td>NaN</td>\n",
              "      <td>120.0</td>\n",
              "      <td>1181.0</td>\n",
              "      <td>1301.0</td>\n",
              "      <td>NaN</td>\n",
              "    </tr>\n",
              "    <tr>\n",
              "      <th>3</th>\n",
              "      <td>2011-01-04</td>\n",
              "      <td>NaN</td>\n",
              "      <td>-5.957143</td>\n",
              "      <td>4.642857</td>\n",
              "      <td>-3.100000</td>\n",
              "      <td>0.000000</td>\n",
              "      <td>1.800</td>\n",
              "      <td>NaN</td>\n",
              "      <td>NaN</td>\n",
              "      <td>NaN</td>\n",
              "      <td>...</td>\n",
              "      <td>NaN</td>\n",
              "      <td>NaN</td>\n",
              "      <td>NaN</td>\n",
              "      <td>NaN</td>\n",
              "      <td>NaN</td>\n",
              "      <td>NaN</td>\n",
              "      <td>107.0</td>\n",
              "      <td>1429.0</td>\n",
              "      <td>1536.0</td>\n",
              "      <td>NaN</td>\n",
              "    </tr>\n",
              "    <tr>\n",
              "      <th>4</th>\n",
              "      <td>2011-01-05</td>\n",
              "      <td>NaN</td>\n",
              "      <td>-4.293333</td>\n",
              "      <td>6.113333</td>\n",
              "      <td>-1.772727</td>\n",
              "      <td>0.000000</td>\n",
              "      <td>2.950</td>\n",
              "      <td>NaN</td>\n",
              "      <td>NaN</td>\n",
              "      <td>NaN</td>\n",
              "      <td>...</td>\n",
              "      <td>NaN</td>\n",
              "      <td>NaN</td>\n",
              "      <td>NaN</td>\n",
              "      <td>NaN</td>\n",
              "      <td>NaN</td>\n",
              "      <td>NaN</td>\n",
              "      <td>82.0</td>\n",
              "      <td>1489.0</td>\n",
              "      <td>1571.0</td>\n",
              "      <td>NaN</td>\n",
              "    </tr>\n",
              "  </tbody>\n",
              "</table>\n",
              "<p>5 rows × 29 columns</p>\n",
              "</div>\n",
              "      <button class=\"colab-df-convert\" onclick=\"convertToInteractive('df-4598f296-264d-4dec-ac31-265e6d41efd8')\"\n",
              "              title=\"Convert this dataframe to an interactive table.\"\n",
              "              style=\"display:none;\">\n",
              "        \n",
              "  <svg xmlns=\"http://www.w3.org/2000/svg\" height=\"24px\"viewBox=\"0 0 24 24\"\n",
              "       width=\"24px\">\n",
              "    <path d=\"M0 0h24v24H0V0z\" fill=\"none\"/>\n",
              "    <path d=\"M18.56 5.44l.94 2.06.94-2.06 2.06-.94-2.06-.94-.94-2.06-.94 2.06-2.06.94zm-11 1L8.5 8.5l.94-2.06 2.06-.94-2.06-.94L8.5 2.5l-.94 2.06-2.06.94zm10 10l.94 2.06.94-2.06 2.06-.94-2.06-.94-.94-2.06-.94 2.06-2.06.94z\"/><path d=\"M17.41 7.96l-1.37-1.37c-.4-.4-.92-.59-1.43-.59-.52 0-1.04.2-1.43.59L10.3 9.45l-7.72 7.72c-.78.78-.78 2.05 0 2.83L4 21.41c.39.39.9.59 1.41.59.51 0 1.02-.2 1.41-.59l7.78-7.78 2.81-2.81c.8-.78.8-2.07 0-2.86zM5.41 20L4 18.59l7.72-7.72 1.47 1.35L5.41 20z\"/>\n",
              "  </svg>\n",
              "      </button>\n",
              "      \n",
              "  <style>\n",
              "    .colab-df-container {\n",
              "      display:flex;\n",
              "      flex-wrap:wrap;\n",
              "      gap: 12px;\n",
              "    }\n",
              "\n",
              "    .colab-df-convert {\n",
              "      background-color: #E8F0FE;\n",
              "      border: none;\n",
              "      border-radius: 50%;\n",
              "      cursor: pointer;\n",
              "      display: none;\n",
              "      fill: #1967D2;\n",
              "      height: 32px;\n",
              "      padding: 0 0 0 0;\n",
              "      width: 32px;\n",
              "    }\n",
              "\n",
              "    .colab-df-convert:hover {\n",
              "      background-color: #E2EBFA;\n",
              "      box-shadow: 0px 1px 2px rgba(60, 64, 67, 0.3), 0px 1px 3px 1px rgba(60, 64, 67, 0.15);\n",
              "      fill: #174EA6;\n",
              "    }\n",
              "\n",
              "    [theme=dark] .colab-df-convert {\n",
              "      background-color: #3B4455;\n",
              "      fill: #D2E3FC;\n",
              "    }\n",
              "\n",
              "    [theme=dark] .colab-df-convert:hover {\n",
              "      background-color: #434B5C;\n",
              "      box-shadow: 0px 1px 3px 1px rgba(0, 0, 0, 0.15);\n",
              "      filter: drop-shadow(0px 1px 2px rgba(0, 0, 0, 0.3));\n",
              "      fill: #FFFFFF;\n",
              "    }\n",
              "  </style>\n",
              "\n",
              "      <script>\n",
              "        const buttonEl =\n",
              "          document.querySelector('#df-4598f296-264d-4dec-ac31-265e6d41efd8 button.colab-df-convert');\n",
              "        buttonEl.style.display =\n",
              "          google.colab.kernel.accessAllowed ? 'block' : 'none';\n",
              "\n",
              "        async function convertToInteractive(key) {\n",
              "          const element = document.querySelector('#df-4598f296-264d-4dec-ac31-265e6d41efd8');\n",
              "          const dataTable =\n",
              "            await google.colab.kernel.invokeFunction('convertToInteractive',\n",
              "                                                     [key], {});\n",
              "          if (!dataTable) return;\n",
              "\n",
              "          const docLinkHtml = 'Like what you see? Visit the ' +\n",
              "            '<a target=\"_blank\" href=https://colab.research.google.com/notebooks/data_table.ipynb>data table notebook</a>'\n",
              "            + ' to learn more about interactive tables.';\n",
              "          element.innerHTML = '';\n",
              "          dataTable['output_type'] = 'display_data';\n",
              "          await google.colab.output.renderOutput(dataTable, element);\n",
              "          const docLink = document.createElement('div');\n",
              "          docLink.innerHTML = docLinkHtml;\n",
              "          element.appendChild(docLink);\n",
              "        }\n",
              "      </script>\n",
              "    </div>\n",
              "  </div>\n",
              "  "
            ]
          },
          "metadata": {},
          "execution_count": 7
        }
      ]
    }
  ]
}